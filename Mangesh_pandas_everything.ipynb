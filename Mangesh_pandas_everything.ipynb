{
 "cells": [
  {
   "cell_type": "markdown",
   "id": "76d79187",
   "metadata": {},
   "source": [
    "# Mangesh Kendre - Data Scientist\n",
    "-Everything of pandas"
   ]
  },
  {
   "cell_type": "raw",
   "id": "afb0d130",
   "metadata": {},
   "source": [
    "Pandas methods\n",
    "\n",
    "\n",
    "1.Introduction to pandas\n",
    "2.Top 5 or bottom 5 records\n",
    "3.renaming the column names\n",
    "4.statistical description\n",
    "5.adding new column\n",
    "6.dropping column\n",
    "7.Setting any column as index\n",
    "8.resettig index\n",
    "9.selecting row with index position\n",
    "10.selecting subsection of the dataset with LOC and iloc\n",
    "11.how to drop the row\n",
    "12.conditional filtering using \"&\" and \"|\"\n",
    "13.apply function on single column\n",
    "14.apply func on multiple column using lambda func\n",
    "15.sorting method\n",
    "16.min , max and their index position\n",
    "17.value_counts/unique/nunique/replace/map function\n",
    "18.treatment of duplicate values\n",
    "19.nlargest/nsmallest to get highest/lowest records\n",
    "20.sample of the dataset (by numbers or percentage)\n",
    "21.handling missing data\n",
    "22.isnull/notnull\n",
    "23.dropping missing values\n",
    "24.filling missing values\n",
    "25.group by operation on pandas\n",
    "26.combining dataframe-->concatenation\n",
    "27.combining dataframe--> merging-->join--> inner/left/right/outer\n",
    "28.text method on string data\n",
    "29.cleaning the data\n",
    "\n",
    "\n",
    "\n"
   ]
  },
  {
   "cell_type": "code",
   "execution_count": 1,
   "id": "e2a88337",
   "metadata": {},
   "outputs": [],
   "source": [
    "import pandas as pd\n",
    "import numpy as np"
   ]
  },
  {
   "cell_type": "markdown",
   "id": "d7a69ddf",
   "metadata": {},
   "source": [
    "# 1.Introduction to pandas"
   ]
  },
  {
   "cell_type": "raw",
   "id": "1675922f",
   "metadata": {},
   "source": [
    "Pandas Library\n",
    "\n",
    "--it is useful for data processing and Analysis\n",
    "\n",
    "Pandas Dataframe\n",
    "\n",
    "--pandas dataframe it is two dimentional tabular data structure with labelled axis (rows and columns)\n",
    "\n",
    "--Dataframe is table of columns and rows in pandas that we can easily restructure and filter\n",
    "\n",
    "--Formal Defination:=A group of pandas series Object that share the same index"
   ]
  },
  {
   "cell_type": "code",
   "execution_count": 4,
   "id": "d431a471",
   "metadata": {},
   "outputs": [
    {
     "data": {
      "text/plain": [
       "array([[ 62,  49,  27],\n",
       "       [  9,  60,  47],\n",
       "       [ 20, 115, 113],\n",
       "       [ 42,  66,  91]])"
      ]
     },
     "execution_count": 4,
     "metadata": {},
     "output_type": "execute_result"
    }
   ],
   "source": [
    "# creating dataframe\n",
    "\n",
    "data=np.random.randint(0,122,(4,3))\n",
    "data"
   ]
  },
  {
   "cell_type": "code",
   "execution_count": 7,
   "id": "65318e1c",
   "metadata": {},
   "outputs": [
    {
     "data": {
      "text/html": [
       "<div>\n",
       "<style scoped>\n",
       "    .dataframe tbody tr th:only-of-type {\n",
       "        vertical-align: middle;\n",
       "    }\n",
       "\n",
       "    .dataframe tbody tr th {\n",
       "        vertical-align: top;\n",
       "    }\n",
       "\n",
       "    .dataframe thead th {\n",
       "        text-align: right;\n",
       "    }\n",
       "</style>\n",
       "<table border=\"1\" class=\"dataframe\">\n",
       "  <thead>\n",
       "    <tr style=\"text-align: right;\">\n",
       "      <th></th>\n",
       "      <th>jan</th>\n",
       "      <th>feb</th>\n",
       "      <th>march</th>\n",
       "    </tr>\n",
       "  </thead>\n",
       "  <tbody>\n",
       "    <tr>\n",
       "      <th>mangesh</th>\n",
       "      <td>62</td>\n",
       "      <td>49</td>\n",
       "      <td>27</td>\n",
       "    </tr>\n",
       "    <tr>\n",
       "      <th>nilesh</th>\n",
       "      <td>9</td>\n",
       "      <td>60</td>\n",
       "      <td>47</td>\n",
       "    </tr>\n",
       "    <tr>\n",
       "      <th>depak</th>\n",
       "      <td>20</td>\n",
       "      <td>115</td>\n",
       "      <td>113</td>\n",
       "    </tr>\n",
       "    <tr>\n",
       "      <th>pratibha</th>\n",
       "      <td>42</td>\n",
       "      <td>66</td>\n",
       "      <td>91</td>\n",
       "    </tr>\n",
       "  </tbody>\n",
       "</table>\n",
       "</div>"
      ],
      "text/plain": [
       "          jan  feb  march\n",
       "mangesh    62   49     27\n",
       "nilesh      9   60     47\n",
       "depak      20  115    113\n",
       "pratibha   42   66     91"
      ]
     },
     "execution_count": 7,
     "metadata": {},
     "output_type": "execute_result"
    }
   ],
   "source": [
    "index=['mangesh','nilesh','depak','pratibha']\n",
    "column=['jan','feb','march']\n",
    "df=pd.DataFrame(data,index=index,columns=column)\n",
    "df"
   ]
  },
  {
   "cell_type": "code",
   "execution_count": 10,
   "id": "94d17e13",
   "metadata": {},
   "outputs": [
    {
     "data": {
      "text/html": [
       "<div>\n",
       "<style scoped>\n",
       "    .dataframe tbody tr th:only-of-type {\n",
       "        vertical-align: middle;\n",
       "    }\n",
       "\n",
       "    .dataframe tbody tr th {\n",
       "        vertical-align: top;\n",
       "    }\n",
       "\n",
       "    .dataframe thead th {\n",
       "        text-align: right;\n",
       "    }\n",
       "</style>\n",
       "<table border=\"1\" class=\"dataframe\">\n",
       "  <thead>\n",
       "    <tr style=\"text-align: right;\">\n",
       "      <th></th>\n",
       "      <th>DIVISION</th>\n",
       "      <th>BILL_STATUS</th>\n",
       "      <th>REALIZATION_PAYMENT</th>\n",
       "    </tr>\n",
       "  </thead>\n",
       "  <tbody>\n",
       "    <tr>\n",
       "      <th>0</th>\n",
       "      <td>WEILOI</td>\n",
       "      <td>ACT</td>\n",
       "      <td>490.0</td>\n",
       "    </tr>\n",
       "    <tr>\n",
       "      <th>1</th>\n",
       "      <td>WEILOI</td>\n",
       "      <td>ACT</td>\n",
       "      <td>800.0</td>\n",
       "    </tr>\n",
       "    <tr>\n",
       "      <th>2</th>\n",
       "      <td>WEILOI</td>\n",
       "      <td>ACT</td>\n",
       "      <td>10.0</td>\n",
       "    </tr>\n",
       "    <tr>\n",
       "      <th>3</th>\n",
       "      <td>WEILOI</td>\n",
       "      <td>ACT</td>\n",
       "      <td>NaN</td>\n",
       "    </tr>\n",
       "    <tr>\n",
       "      <th>4</th>\n",
       "      <td>WEILOI</td>\n",
       "      <td>ACT</td>\n",
       "      <td>700.0</td>\n",
       "    </tr>\n",
       "    <tr>\n",
       "      <th>...</th>\n",
       "      <td>...</td>\n",
       "      <td>...</td>\n",
       "      <td>...</td>\n",
       "    </tr>\n",
       "    <tr>\n",
       "      <th>23504</th>\n",
       "      <td>TURA</td>\n",
       "      <td>ACT</td>\n",
       "      <td>NaN</td>\n",
       "    </tr>\n",
       "    <tr>\n",
       "      <th>23505</th>\n",
       "      <td>TURA</td>\n",
       "      <td>ACT</td>\n",
       "      <td>NaN</td>\n",
       "    </tr>\n",
       "    <tr>\n",
       "      <th>23506</th>\n",
       "      <td>TURA</td>\n",
       "      <td>ACT</td>\n",
       "      <td>NaN</td>\n",
       "    </tr>\n",
       "    <tr>\n",
       "      <th>23507</th>\n",
       "      <td>TURA</td>\n",
       "      <td>ACT</td>\n",
       "      <td>17537.0</td>\n",
       "    </tr>\n",
       "    <tr>\n",
       "      <th>23508</th>\n",
       "      <td>WEILOI</td>\n",
       "      <td>ACT</td>\n",
       "      <td>NaN</td>\n",
       "    </tr>\n",
       "  </tbody>\n",
       "</table>\n",
       "<p>23509 rows × 3 columns</p>\n",
       "</div>"
      ],
      "text/plain": [
       "      DIVISION BILL_STATUS  REALIZATION_PAYMENT\n",
       "0       WEILOI         ACT                490.0\n",
       "1       WEILOI         ACT                800.0\n",
       "2       WEILOI         ACT                 10.0\n",
       "3       WEILOI         ACT                  NaN\n",
       "4       WEILOI         ACT                700.0\n",
       "...        ...         ...                  ...\n",
       "23504     TURA         ACT                  NaN\n",
       "23505     TURA         ACT                  NaN\n",
       "23506     TURA         ACT                  NaN\n",
       "23507     TURA         ACT              17537.0\n",
       "23508   WEILOI         ACT                  NaN\n",
       "\n",
       "[23509 rows x 3 columns]"
      ]
     },
     "execution_count": 10,
     "metadata": {},
     "output_type": "execute_result"
    }
   ],
   "source": [
    "# read file \n",
    "df = pd.read_csv('fedco.csv')\n",
    "df=df[['DIVISION','BILL_STATUS','REALIZATION_PAYMENT']]\n",
    "df"
   ]
  },
  {
   "cell_type": "code",
   "execution_count": 13,
   "id": "97c14f16",
   "metadata": {},
   "outputs": [
    {
     "data": {
      "text/plain": [
       "(  DIVISION BILL_STATUS  REALIZATION_PAYMENT\n",
       " 0   WEILOI         ACT                490.0\n",
       " 1   WEILOI         ACT                800.0\n",
       " 2   WEILOI         ACT                 10.0\n",
       " 3   WEILOI         ACT                  NaN\n",
       " 4   WEILOI         ACT                700.0,\n",
       "       DIVISION BILL_STATUS  REALIZATION_PAYMENT\n",
       " 23504     TURA         ACT                  NaN\n",
       " 23505     TURA         ACT                  NaN\n",
       " 23506     TURA         ACT                  NaN\n",
       " 23507     TURA         ACT              17537.0\n",
       " 23508   WEILOI         ACT                  NaN)"
      ]
     },
     "execution_count": 13,
     "metadata": {},
     "output_type": "execute_result"
    }
   ],
   "source": [
    "# top 5 and below 5 rows \n",
    "\n",
    "df.head(),df.tail()"
   ]
  },
  {
   "cell_type": "code",
   "execution_count": 15,
   "id": "19257003",
   "metadata": {},
   "outputs": [
    {
     "data": {
      "text/plain": [
       "Index(['DIVISION', 'BILL_STATUS', 'REALIZATION_PAYMENT'], dtype='object')"
      ]
     },
     "execution_count": 15,
     "metadata": {},
     "output_type": "execute_result"
    }
   ],
   "source": [
    "# get columns\n",
    "df.columns"
   ]
  },
  {
   "cell_type": "code",
   "execution_count": 16,
   "id": "4333413a",
   "metadata": {},
   "outputs": [
    {
     "data": {
      "text/plain": [
       "RangeIndex(start=0, stop=23509, step=1)"
      ]
     },
     "execution_count": 16,
     "metadata": {},
     "output_type": "execute_result"
    }
   ],
   "source": [
    "# to get index\n",
    "\n",
    "df.index"
   ]
  },
  {
   "cell_type": "code",
   "execution_count": 19,
   "id": "7dcb962a",
   "metadata": {},
   "outputs": [],
   "source": [
    "df.rename(columns={'BILL_STATUS':'bill_status'},inplace=True)\n",
    "df"
   ]
  },
  {
   "cell_type": "code",
   "execution_count": 21,
   "id": "c90699b6",
   "metadata": {},
   "outputs": [
    {
     "data": {
      "text/html": [
       "<div>\n",
       "<style scoped>\n",
       "    .dataframe tbody tr th:only-of-type {\n",
       "        vertical-align: middle;\n",
       "    }\n",
       "\n",
       "    .dataframe tbody tr th {\n",
       "        vertical-align: top;\n",
       "    }\n",
       "\n",
       "    .dataframe thead th {\n",
       "        text-align: right;\n",
       "    }\n",
       "</style>\n",
       "<table border=\"1\" class=\"dataframe\">\n",
       "  <thead>\n",
       "    <tr style=\"text-align: right;\">\n",
       "      <th></th>\n",
       "      <th>DIVISION</th>\n",
       "      <th>bill_status</th>\n",
       "      <th>REALIZATION_PAYMENT</th>\n",
       "    </tr>\n",
       "  </thead>\n",
       "  <tbody>\n",
       "    <tr>\n",
       "      <th>0</th>\n",
       "      <td>WEILOI</td>\n",
       "      <td>ACT</td>\n",
       "      <td>490.0</td>\n",
       "    </tr>\n",
       "    <tr>\n",
       "      <th>1</th>\n",
       "      <td>WEILOI</td>\n",
       "      <td>ACT</td>\n",
       "      <td>800.0</td>\n",
       "    </tr>\n",
       "    <tr>\n",
       "      <th>2</th>\n",
       "      <td>WEILOI</td>\n",
       "      <td>ACT</td>\n",
       "      <td>10.0</td>\n",
       "    </tr>\n",
       "    <tr>\n",
       "      <th>3</th>\n",
       "      <td>WEILOI</td>\n",
       "      <td>ACT</td>\n",
       "      <td>NaN</td>\n",
       "    </tr>\n",
       "    <tr>\n",
       "      <th>4</th>\n",
       "      <td>WEILOI</td>\n",
       "      <td>ACT</td>\n",
       "      <td>700.0</td>\n",
       "    </tr>\n",
       "    <tr>\n",
       "      <th>...</th>\n",
       "      <td>...</td>\n",
       "      <td>...</td>\n",
       "      <td>...</td>\n",
       "    </tr>\n",
       "    <tr>\n",
       "      <th>23504</th>\n",
       "      <td>TURA</td>\n",
       "      <td>ACT</td>\n",
       "      <td>NaN</td>\n",
       "    </tr>\n",
       "    <tr>\n",
       "      <th>23505</th>\n",
       "      <td>TURA</td>\n",
       "      <td>ACT</td>\n",
       "      <td>NaN</td>\n",
       "    </tr>\n",
       "    <tr>\n",
       "      <th>23506</th>\n",
       "      <td>TURA</td>\n",
       "      <td>ACT</td>\n",
       "      <td>NaN</td>\n",
       "    </tr>\n",
       "    <tr>\n",
       "      <th>23507</th>\n",
       "      <td>TURA</td>\n",
       "      <td>ACT</td>\n",
       "      <td>17537.0</td>\n",
       "    </tr>\n",
       "    <tr>\n",
       "      <th>23508</th>\n",
       "      <td>WEILOI</td>\n",
       "      <td>ACT</td>\n",
       "      <td>NaN</td>\n",
       "    </tr>\n",
       "  </tbody>\n",
       "</table>\n",
       "<p>23509 rows × 3 columns</p>\n",
       "</div>"
      ],
      "text/plain": [
       "      DIVISION bill_status  REALIZATION_PAYMENT\n",
       "0       WEILOI         ACT                490.0\n",
       "1       WEILOI         ACT                800.0\n",
       "2       WEILOI         ACT                 10.0\n",
       "3       WEILOI         ACT                  NaN\n",
       "4       WEILOI         ACT                700.0\n",
       "...        ...         ...                  ...\n",
       "23504     TURA         ACT                  NaN\n",
       "23505     TURA         ACT                  NaN\n",
       "23506     TURA         ACT                  NaN\n",
       "23507     TURA         ACT              17537.0\n",
       "23508   WEILOI         ACT                  NaN\n",
       "\n",
       "[23509 rows x 3 columns]"
      ]
     },
     "execution_count": 21,
     "metadata": {},
     "output_type": "execute_result"
    }
   ],
   "source": [
    "df"
   ]
  },
  {
   "cell_type": "code",
   "execution_count": 110,
   "id": "f108612e",
   "metadata": {},
   "outputs": [
    {
     "name": "stdout",
     "output_type": "stream",
     "text": [
      "<class 'pandas.core.frame.DataFrame'>\n",
      "RangeIndex: 23509 entries, 0 to 23508\n",
      "Data columns (total 5 columns):\n",
      " #   Column               Non-Null Count  Dtype  \n",
      "---  ------               --------------  -----  \n",
      " 0   DIVISION             23509 non-null  object \n",
      " 1   bill_status          23509 non-null  object \n",
      " 2   REALIZATION_PAYMENT  11033 non-null  float64\n",
      " 3   new                  11033 non-null  float64\n",
      " 4   my_col               23509 non-null  object \n",
      "dtypes: float64(2), object(3)\n",
      "memory usage: 918.4+ KB\n"
     ]
    },
    {
     "name": "stderr",
     "output_type": "stream",
     "text": [
      "C:\\Users\\mangeshk\\AppData\\Local\\Temp\\ipykernel_29060\\1006756901.py:3: FutureWarning: The default value of numeric_only in DataFrame.corr is deprecated. In a future version, it will default to False. Select only valid columns or specify the value of numeric_only to silence this warning.\n",
      "  df.info(),df.describe(),df.corr()\n"
     ]
    },
    {
     "data": {
      "text/plain": [
       "(None,\n",
       "        REALIZATION_PAYMENT           new\n",
       " count         11033.000000  11033.000000\n",
       " mean            636.069519    127.213904\n",
       " std            3767.814000    753.562800\n",
       " min               3.000000      0.600000\n",
       " 25%             106.000000     21.200000\n",
       " 50%             200.000000     40.000000\n",
       " 75%             466.000000     93.200000\n",
       " max          213872.000000  42774.400000,\n",
       "                      REALIZATION_PAYMENT  new\n",
       " REALIZATION_PAYMENT                  1.0  1.0\n",
       " new                                  1.0  1.0)"
      ]
     },
     "execution_count": 110,
     "metadata": {},
     "output_type": "execute_result"
    }
   ],
   "source": [
    "# to get statistical info\n",
    "\n",
    "df.info(),df.describe(),df.corr()"
   ]
  },
  {
   "cell_type": "code",
   "execution_count": 29,
   "id": "e9881fa1",
   "metadata": {},
   "outputs": [
    {
     "data": {
      "text/plain": [
       "<Axes: >"
      ]
     },
     "execution_count": 29,
     "metadata": {},
     "output_type": "execute_result"
    },
    {
     "data": {
      "image/png": "[encoded data removed]",
      "text/plain": [
       "<Figure size 640x480 with 1 Axes>"
      ]
     },
     "metadata": {},
     "output_type": "display_data"
    }
   ],
   "source": [
    "df.describe().transpose().plot()"
   ]
  },
  {
   "cell_type": "code",
   "execution_count": 31,
   "id": "4f2d9a84",
   "metadata": {},
   "outputs": [
    {
     "data": {
      "text/html": [
       "<div>\n",
       "<style scoped>\n",
       "    .dataframe tbody tr th:only-of-type {\n",
       "        vertical-align: middle;\n",
       "    }\n",
       "\n",
       "    .dataframe tbody tr th {\n",
       "        vertical-align: top;\n",
       "    }\n",
       "\n",
       "    .dataframe thead th {\n",
       "        text-align: right;\n",
       "    }\n",
       "</style>\n",
       "<table border=\"1\" class=\"dataframe\">\n",
       "  <thead>\n",
       "    <tr style=\"text-align: right;\">\n",
       "      <th></th>\n",
       "      <th>REALIZATION_PAYMENT</th>\n",
       "      <th>DIVISION</th>\n",
       "    </tr>\n",
       "  </thead>\n",
       "  <tbody>\n",
       "    <tr>\n",
       "      <th>0</th>\n",
       "      <td>490.0</td>\n",
       "      <td>WEILOI</td>\n",
       "    </tr>\n",
       "    <tr>\n",
       "      <th>1</th>\n",
       "      <td>800.0</td>\n",
       "      <td>WEILOI</td>\n",
       "    </tr>\n",
       "    <tr>\n",
       "      <th>2</th>\n",
       "      <td>10.0</td>\n",
       "      <td>WEILOI</td>\n",
       "    </tr>\n",
       "    <tr>\n",
       "      <th>3</th>\n",
       "      <td>NaN</td>\n",
       "      <td>WEILOI</td>\n",
       "    </tr>\n",
       "    <tr>\n",
       "      <th>4</th>\n",
       "      <td>700.0</td>\n",
       "      <td>WEILOI</td>\n",
       "    </tr>\n",
       "    <tr>\n",
       "      <th>...</th>\n",
       "      <td>...</td>\n",
       "      <td>...</td>\n",
       "    </tr>\n",
       "    <tr>\n",
       "      <th>23504</th>\n",
       "      <td>NaN</td>\n",
       "      <td>TURA</td>\n",
       "    </tr>\n",
       "    <tr>\n",
       "      <th>23505</th>\n",
       "      <td>NaN</td>\n",
       "      <td>TURA</td>\n",
       "    </tr>\n",
       "    <tr>\n",
       "      <th>23506</th>\n",
       "      <td>NaN</td>\n",
       "      <td>TURA</td>\n",
       "    </tr>\n",
       "    <tr>\n",
       "      <th>23507</th>\n",
       "      <td>17537.0</td>\n",
       "      <td>TURA</td>\n",
       "    </tr>\n",
       "    <tr>\n",
       "      <th>23508</th>\n",
       "      <td>NaN</td>\n",
       "      <td>WEILOI</td>\n",
       "    </tr>\n",
       "  </tbody>\n",
       "</table>\n",
       "<p>23509 rows × 2 columns</p>\n",
       "</div>"
      ],
      "text/plain": [
       "       REALIZATION_PAYMENT DIVISION\n",
       "0                    490.0   WEILOI\n",
       "1                    800.0   WEILOI\n",
       "2                     10.0   WEILOI\n",
       "3                      NaN   WEILOI\n",
       "4                    700.0   WEILOI\n",
       "...                    ...      ...\n",
       "23504                  NaN     TURA\n",
       "23505                  NaN     TURA\n",
       "23506                  NaN     TURA\n",
       "23507              17537.0     TURA\n",
       "23508                  NaN   WEILOI\n",
       "\n",
       "[23509 rows x 2 columns]"
      ]
     },
     "execution_count": 31,
     "metadata": {},
     "output_type": "execute_result"
    }
   ],
   "source": [
    "# to check columns\n",
    "\n",
    "df[['REALIZATION_PAYMENT','DIVISION']]"
   ]
  },
  {
   "cell_type": "code",
   "execution_count": 32,
   "id": "27f8bf9f",
   "metadata": {},
   "outputs": [
    {
     "data": {
      "text/html": [
       "<div>\n",
       "<style scoped>\n",
       "    .dataframe tbody tr th:only-of-type {\n",
       "        vertical-align: middle;\n",
       "    }\n",
       "\n",
       "    .dataframe tbody tr th {\n",
       "        vertical-align: top;\n",
       "    }\n",
       "\n",
       "    .dataframe thead th {\n",
       "        text-align: right;\n",
       "    }\n",
       "</style>\n",
       "<table border=\"1\" class=\"dataframe\">\n",
       "  <thead>\n",
       "    <tr style=\"text-align: right;\">\n",
       "      <th></th>\n",
       "      <th>DIVISION</th>\n",
       "      <th>bill_status</th>\n",
       "      <th>REALIZATION_PAYMENT</th>\n",
       "      <th>new</th>\n",
       "    </tr>\n",
       "  </thead>\n",
       "  <tbody>\n",
       "    <tr>\n",
       "      <th>0</th>\n",
       "      <td>WEILOI</td>\n",
       "      <td>ACT</td>\n",
       "      <td>490.0</td>\n",
       "      <td>98.0</td>\n",
       "    </tr>\n",
       "    <tr>\n",
       "      <th>1</th>\n",
       "      <td>WEILOI</td>\n",
       "      <td>ACT</td>\n",
       "      <td>800.0</td>\n",
       "      <td>160.0</td>\n",
       "    </tr>\n",
       "    <tr>\n",
       "      <th>2</th>\n",
       "      <td>WEILOI</td>\n",
       "      <td>ACT</td>\n",
       "      <td>10.0</td>\n",
       "      <td>2.0</td>\n",
       "    </tr>\n",
       "    <tr>\n",
       "      <th>3</th>\n",
       "      <td>WEILOI</td>\n",
       "      <td>ACT</td>\n",
       "      <td>NaN</td>\n",
       "      <td>NaN</td>\n",
       "    </tr>\n",
       "    <tr>\n",
       "      <th>4</th>\n",
       "      <td>WEILOI</td>\n",
       "      <td>ACT</td>\n",
       "      <td>700.0</td>\n",
       "      <td>140.0</td>\n",
       "    </tr>\n",
       "    <tr>\n",
       "      <th>...</th>\n",
       "      <td>...</td>\n",
       "      <td>...</td>\n",
       "      <td>...</td>\n",
       "      <td>...</td>\n",
       "    </tr>\n",
       "    <tr>\n",
       "      <th>23504</th>\n",
       "      <td>TURA</td>\n",
       "      <td>ACT</td>\n",
       "      <td>NaN</td>\n",
       "      <td>NaN</td>\n",
       "    </tr>\n",
       "    <tr>\n",
       "      <th>23505</th>\n",
       "      <td>TURA</td>\n",
       "      <td>ACT</td>\n",
       "      <td>NaN</td>\n",
       "      <td>NaN</td>\n",
       "    </tr>\n",
       "    <tr>\n",
       "      <th>23506</th>\n",
       "      <td>TURA</td>\n",
       "      <td>ACT</td>\n",
       "      <td>NaN</td>\n",
       "      <td>NaN</td>\n",
       "    </tr>\n",
       "    <tr>\n",
       "      <th>23507</th>\n",
       "      <td>TURA</td>\n",
       "      <td>ACT</td>\n",
       "      <td>17537.0</td>\n",
       "      <td>3507.4</td>\n",
       "    </tr>\n",
       "    <tr>\n",
       "      <th>23508</th>\n",
       "      <td>WEILOI</td>\n",
       "      <td>ACT</td>\n",
       "      <td>NaN</td>\n",
       "      <td>NaN</td>\n",
       "    </tr>\n",
       "  </tbody>\n",
       "</table>\n",
       "<p>23509 rows × 4 columns</p>\n",
       "</div>"
      ],
      "text/plain": [
       "      DIVISION bill_status  REALIZATION_PAYMENT     new\n",
       "0       WEILOI         ACT                490.0    98.0\n",
       "1       WEILOI         ACT                800.0   160.0\n",
       "2       WEILOI         ACT                 10.0     2.0\n",
       "3       WEILOI         ACT                  NaN     NaN\n",
       "4       WEILOI         ACT                700.0   140.0\n",
       "...        ...         ...                  ...     ...\n",
       "23504     TURA         ACT                  NaN     NaN\n",
       "23505     TURA         ACT                  NaN     NaN\n",
       "23506     TURA         ACT                  NaN     NaN\n",
       "23507     TURA         ACT              17537.0  3507.4\n",
       "23508   WEILOI         ACT                  NaN     NaN\n",
       "\n",
       "[23509 rows x 4 columns]"
      ]
     },
     "execution_count": 32,
     "metadata": {},
     "output_type": "execute_result"
    }
   ],
   "source": [
    "# adding columns\n",
    "\n",
    "df['new']=df['REALIZATION_PAYMENT'] /5\n",
    "df"
   ]
  },
  {
   "cell_type": "code",
   "execution_count": 39,
   "id": "20f53da3",
   "metadata": {},
   "outputs": [
    {
     "data": {
      "text/html": [
       "<div>\n",
       "<style scoped>\n",
       "    .dataframe tbody tr th:only-of-type {\n",
       "        vertical-align: middle;\n",
       "    }\n",
       "\n",
       "    .dataframe tbody tr th {\n",
       "        vertical-align: top;\n",
       "    }\n",
       "\n",
       "    .dataframe thead th {\n",
       "        text-align: right;\n",
       "    }\n",
       "</style>\n",
       "<table border=\"1\" class=\"dataframe\">\n",
       "  <thead>\n",
       "    <tr style=\"text-align: right;\">\n",
       "      <th></th>\n",
       "      <th>DIVISION</th>\n",
       "      <th>bill_status</th>\n",
       "      <th>REALIZATION_PAYMENT</th>\n",
       "      <th>new</th>\n",
       "      <th>col</th>\n",
       "    </tr>\n",
       "  </thead>\n",
       "  <tbody>\n",
       "    <tr>\n",
       "      <th>0</th>\n",
       "      <td>WEILOI</td>\n",
       "      <td>ACT</td>\n",
       "      <td>490.0</td>\n",
       "      <td>98.0</td>\n",
       "      <td>2450.0</td>\n",
       "    </tr>\n",
       "    <tr>\n",
       "      <th>1</th>\n",
       "      <td>WEILOI</td>\n",
       "      <td>ACT</td>\n",
       "      <td>800.0</td>\n",
       "      <td>160.0</td>\n",
       "      <td>4000.0</td>\n",
       "    </tr>\n",
       "    <tr>\n",
       "      <th>2</th>\n",
       "      <td>WEILOI</td>\n",
       "      <td>ACT</td>\n",
       "      <td>10.0</td>\n",
       "      <td>2.0</td>\n",
       "      <td>50.0</td>\n",
       "    </tr>\n",
       "    <tr>\n",
       "      <th>3</th>\n",
       "      <td>WEILOI</td>\n",
       "      <td>ACT</td>\n",
       "      <td>NaN</td>\n",
       "      <td>NaN</td>\n",
       "      <td>NaN</td>\n",
       "    </tr>\n",
       "    <tr>\n",
       "      <th>4</th>\n",
       "      <td>WEILOI</td>\n",
       "      <td>ACT</td>\n",
       "      <td>700.0</td>\n",
       "      <td>140.0</td>\n",
       "      <td>3500.0</td>\n",
       "    </tr>\n",
       "    <tr>\n",
       "      <th>...</th>\n",
       "      <td>...</td>\n",
       "      <td>...</td>\n",
       "      <td>...</td>\n",
       "      <td>...</td>\n",
       "      <td>...</td>\n",
       "    </tr>\n",
       "    <tr>\n",
       "      <th>23504</th>\n",
       "      <td>TURA</td>\n",
       "      <td>ACT</td>\n",
       "      <td>NaN</td>\n",
       "      <td>NaN</td>\n",
       "      <td>NaN</td>\n",
       "    </tr>\n",
       "    <tr>\n",
       "      <th>23505</th>\n",
       "      <td>TURA</td>\n",
       "      <td>ACT</td>\n",
       "      <td>NaN</td>\n",
       "      <td>NaN</td>\n",
       "      <td>NaN</td>\n",
       "    </tr>\n",
       "    <tr>\n",
       "      <th>23506</th>\n",
       "      <td>TURA</td>\n",
       "      <td>ACT</td>\n",
       "      <td>NaN</td>\n",
       "      <td>NaN</td>\n",
       "      <td>NaN</td>\n",
       "    </tr>\n",
       "    <tr>\n",
       "      <th>23507</th>\n",
       "      <td>TURA</td>\n",
       "      <td>ACT</td>\n",
       "      <td>17537.0</td>\n",
       "      <td>3507.4</td>\n",
       "      <td>NaN</td>\n",
       "    </tr>\n",
       "    <tr>\n",
       "      <th>23508</th>\n",
       "      <td>WEILOI</td>\n",
       "      <td>ACT</td>\n",
       "      <td>NaN</td>\n",
       "      <td>NaN</td>\n",
       "      <td>NaN</td>\n",
       "    </tr>\n",
       "  </tbody>\n",
       "</table>\n",
       "<p>23509 rows × 5 columns</p>\n",
       "</div>"
      ],
      "text/plain": [
       "      DIVISION bill_status  REALIZATION_PAYMENT     new     col\n",
       "0       WEILOI         ACT                490.0    98.0  2450.0\n",
       "1       WEILOI         ACT                800.0   160.0  4000.0\n",
       "2       WEILOI         ACT                 10.0     2.0    50.0\n",
       "3       WEILOI         ACT                  NaN     NaN     NaN\n",
       "4       WEILOI         ACT                700.0   140.0  3500.0\n",
       "...        ...         ...                  ...     ...     ...\n",
       "23504     TURA         ACT                  NaN     NaN     NaN\n",
       "23505     TURA         ACT                  NaN     NaN     NaN\n",
       "23506     TURA         ACT                  NaN     NaN     NaN\n",
       "23507     TURA         ACT              17537.0  3507.4     NaN\n",
       "23508   WEILOI         ACT                  NaN     NaN     NaN\n",
       "\n",
       "[23509 rows x 5 columns]"
      ]
     },
     "execution_count": 39,
     "metadata": {},
     "output_type": "execute_result"
    }
   ],
   "source": [
    "# adding customized columns as per conditions  \n",
    "    \n",
    "for index, row in df.iterrows():               \n",
    "    if (row['DIVISION']=='WEILOI') & (row['bill_status']=='ACT'):    \n",
    "        df.at[index,'col']=(df.at[index,'REALIZATION_PAYMENT']*5)\n",
    "        \n",
    "df        "
   ]
  },
  {
   "cell_type": "code",
   "execution_count": 40,
   "id": "8160c735",
   "metadata": {},
   "outputs": [
    {
     "data": {
      "text/html": [
       "<div>\n",
       "<style scoped>\n",
       "    .dataframe tbody tr th:only-of-type {\n",
       "        vertical-align: middle;\n",
       "    }\n",
       "\n",
       "    .dataframe tbody tr th {\n",
       "        vertical-align: top;\n",
       "    }\n",
       "\n",
       "    .dataframe thead th {\n",
       "        text-align: right;\n",
       "    }\n",
       "</style>\n",
       "<table border=\"1\" class=\"dataframe\">\n",
       "  <thead>\n",
       "    <tr style=\"text-align: right;\">\n",
       "      <th></th>\n",
       "      <th>DIVISION</th>\n",
       "      <th>bill_status</th>\n",
       "      <th>REALIZATION_PAYMENT</th>\n",
       "      <th>new</th>\n",
       "    </tr>\n",
       "  </thead>\n",
       "  <tbody>\n",
       "    <tr>\n",
       "      <th>0</th>\n",
       "      <td>WEILOI</td>\n",
       "      <td>ACT</td>\n",
       "      <td>490.0</td>\n",
       "      <td>98.0</td>\n",
       "    </tr>\n",
       "    <tr>\n",
       "      <th>1</th>\n",
       "      <td>WEILOI</td>\n",
       "      <td>ACT</td>\n",
       "      <td>800.0</td>\n",
       "      <td>160.0</td>\n",
       "    </tr>\n",
       "    <tr>\n",
       "      <th>2</th>\n",
       "      <td>WEILOI</td>\n",
       "      <td>ACT</td>\n",
       "      <td>10.0</td>\n",
       "      <td>2.0</td>\n",
       "    </tr>\n",
       "    <tr>\n",
       "      <th>3</th>\n",
       "      <td>WEILOI</td>\n",
       "      <td>ACT</td>\n",
       "      <td>NaN</td>\n",
       "      <td>NaN</td>\n",
       "    </tr>\n",
       "    <tr>\n",
       "      <th>4</th>\n",
       "      <td>WEILOI</td>\n",
       "      <td>ACT</td>\n",
       "      <td>700.0</td>\n",
       "      <td>140.0</td>\n",
       "    </tr>\n",
       "    <tr>\n",
       "      <th>...</th>\n",
       "      <td>...</td>\n",
       "      <td>...</td>\n",
       "      <td>...</td>\n",
       "      <td>...</td>\n",
       "    </tr>\n",
       "    <tr>\n",
       "      <th>23504</th>\n",
       "      <td>TURA</td>\n",
       "      <td>ACT</td>\n",
       "      <td>NaN</td>\n",
       "      <td>NaN</td>\n",
       "    </tr>\n",
       "    <tr>\n",
       "      <th>23505</th>\n",
       "      <td>TURA</td>\n",
       "      <td>ACT</td>\n",
       "      <td>NaN</td>\n",
       "      <td>NaN</td>\n",
       "    </tr>\n",
       "    <tr>\n",
       "      <th>23506</th>\n",
       "      <td>TURA</td>\n",
       "      <td>ACT</td>\n",
       "      <td>NaN</td>\n",
       "      <td>NaN</td>\n",
       "    </tr>\n",
       "    <tr>\n",
       "      <th>23507</th>\n",
       "      <td>TURA</td>\n",
       "      <td>ACT</td>\n",
       "      <td>17537.0</td>\n",
       "      <td>3507.4</td>\n",
       "    </tr>\n",
       "    <tr>\n",
       "      <th>23508</th>\n",
       "      <td>WEILOI</td>\n",
       "      <td>ACT</td>\n",
       "      <td>NaN</td>\n",
       "      <td>NaN</td>\n",
       "    </tr>\n",
       "  </tbody>\n",
       "</table>\n",
       "<p>23509 rows × 4 columns</p>\n",
       "</div>"
      ],
      "text/plain": [
       "      DIVISION bill_status  REALIZATION_PAYMENT     new\n",
       "0       WEILOI         ACT                490.0    98.0\n",
       "1       WEILOI         ACT                800.0   160.0\n",
       "2       WEILOI         ACT                 10.0     2.0\n",
       "3       WEILOI         ACT                  NaN     NaN\n",
       "4       WEILOI         ACT                700.0   140.0\n",
       "...        ...         ...                  ...     ...\n",
       "23504     TURA         ACT                  NaN     NaN\n",
       "23505     TURA         ACT                  NaN     NaN\n",
       "23506     TURA         ACT                  NaN     NaN\n",
       "23507     TURA         ACT              17537.0  3507.4\n",
       "23508   WEILOI         ACT                  NaN     NaN\n",
       "\n",
       "[23509 rows x 4 columns]"
      ]
     },
     "execution_count": 40,
     "metadata": {},
     "output_type": "execute_result"
    }
   ],
   "source": [
    "df.drop('col',axis=1,inplace=True)\n",
    "df\n",
    "\n",
    "\n",
    "#delete multiple\n",
    "#df.drop(columns=['col','col2'],axis=1,inplace=True)  \n"
   ]
  },
  {
   "cell_type": "code",
   "execution_count": 41,
   "id": "38f6a856",
   "metadata": {},
   "outputs": [
    {
     "data": {
      "text/html": [
       "<div>\n",
       "<style scoped>\n",
       "    .dataframe tbody tr th:only-of-type {\n",
       "        vertical-align: middle;\n",
       "    }\n",
       "\n",
       "    .dataframe tbody tr th {\n",
       "        vertical-align: top;\n",
       "    }\n",
       "\n",
       "    .dataframe thead th {\n",
       "        text-align: right;\n",
       "    }\n",
       "</style>\n",
       "<table border=\"1\" class=\"dataframe\">\n",
       "  <thead>\n",
       "    <tr style=\"text-align: right;\">\n",
       "      <th></th>\n",
       "      <th>bill_status</th>\n",
       "      <th>REALIZATION_PAYMENT</th>\n",
       "      <th>new</th>\n",
       "    </tr>\n",
       "    <tr>\n",
       "      <th>DIVISION</th>\n",
       "      <th></th>\n",
       "      <th></th>\n",
       "      <th></th>\n",
       "    </tr>\n",
       "  </thead>\n",
       "  <tbody>\n",
       "    <tr>\n",
       "      <th>WEILOI</th>\n",
       "      <td>ACT</td>\n",
       "      <td>490.0</td>\n",
       "      <td>98.0</td>\n",
       "    </tr>\n",
       "    <tr>\n",
       "      <th>WEILOI</th>\n",
       "      <td>ACT</td>\n",
       "      <td>800.0</td>\n",
       "      <td>160.0</td>\n",
       "    </tr>\n",
       "    <tr>\n",
       "      <th>WEILOI</th>\n",
       "      <td>ACT</td>\n",
       "      <td>10.0</td>\n",
       "      <td>2.0</td>\n",
       "    </tr>\n",
       "    <tr>\n",
       "      <th>WEILOI</th>\n",
       "      <td>ACT</td>\n",
       "      <td>NaN</td>\n",
       "      <td>NaN</td>\n",
       "    </tr>\n",
       "    <tr>\n",
       "      <th>WEILOI</th>\n",
       "      <td>ACT</td>\n",
       "      <td>700.0</td>\n",
       "      <td>140.0</td>\n",
       "    </tr>\n",
       "    <tr>\n",
       "      <th>...</th>\n",
       "      <td>...</td>\n",
       "      <td>...</td>\n",
       "      <td>...</td>\n",
       "    </tr>\n",
       "    <tr>\n",
       "      <th>TURA</th>\n",
       "      <td>ACT</td>\n",
       "      <td>NaN</td>\n",
       "      <td>NaN</td>\n",
       "    </tr>\n",
       "    <tr>\n",
       "      <th>TURA</th>\n",
       "      <td>ACT</td>\n",
       "      <td>NaN</td>\n",
       "      <td>NaN</td>\n",
       "    </tr>\n",
       "    <tr>\n",
       "      <th>TURA</th>\n",
       "      <td>ACT</td>\n",
       "      <td>NaN</td>\n",
       "      <td>NaN</td>\n",
       "    </tr>\n",
       "    <tr>\n",
       "      <th>TURA</th>\n",
       "      <td>ACT</td>\n",
       "      <td>17537.0</td>\n",
       "      <td>3507.4</td>\n",
       "    </tr>\n",
       "    <tr>\n",
       "      <th>WEILOI</th>\n",
       "      <td>ACT</td>\n",
       "      <td>NaN</td>\n",
       "      <td>NaN</td>\n",
       "    </tr>\n",
       "  </tbody>\n",
       "</table>\n",
       "<p>23509 rows × 3 columns</p>\n",
       "</div>"
      ],
      "text/plain": [
       "         bill_status  REALIZATION_PAYMENT     new\n",
       "DIVISION                                         \n",
       "WEILOI           ACT                490.0    98.0\n",
       "WEILOI           ACT                800.0   160.0\n",
       "WEILOI           ACT                 10.0     2.0\n",
       "WEILOI           ACT                  NaN     NaN\n",
       "WEILOI           ACT                700.0   140.0\n",
       "...              ...                  ...     ...\n",
       "TURA             ACT                  NaN     NaN\n",
       "TURA             ACT                  NaN     NaN\n",
       "TURA             ACT                  NaN     NaN\n",
       "TURA             ACT              17537.0  3507.4\n",
       "WEILOI           ACT                  NaN     NaN\n",
       "\n",
       "[23509 rows x 3 columns]"
      ]
     },
     "execution_count": 41,
     "metadata": {},
     "output_type": "execute_result"
    }
   ],
   "source": [
    "# set index\n",
    "\n",
    "df.set_index('DIVISION')"
   ]
  },
  {
   "cell_type": "code",
   "execution_count": 42,
   "id": "a35dca06",
   "metadata": {},
   "outputs": [
    {
     "data": {
      "text/html": [
       "<div>\n",
       "<style scoped>\n",
       "    .dataframe tbody tr th:only-of-type {\n",
       "        vertical-align: middle;\n",
       "    }\n",
       "\n",
       "    .dataframe tbody tr th {\n",
       "        vertical-align: top;\n",
       "    }\n",
       "\n",
       "    .dataframe thead th {\n",
       "        text-align: right;\n",
       "    }\n",
       "</style>\n",
       "<table border=\"1\" class=\"dataframe\">\n",
       "  <thead>\n",
       "    <tr style=\"text-align: right;\">\n",
       "      <th></th>\n",
       "      <th>index</th>\n",
       "      <th>DIVISION</th>\n",
       "      <th>bill_status</th>\n",
       "      <th>REALIZATION_PAYMENT</th>\n",
       "      <th>new</th>\n",
       "    </tr>\n",
       "  </thead>\n",
       "  <tbody>\n",
       "    <tr>\n",
       "      <th>0</th>\n",
       "      <td>0</td>\n",
       "      <td>WEILOI</td>\n",
       "      <td>ACT</td>\n",
       "      <td>490.0</td>\n",
       "      <td>98.0</td>\n",
       "    </tr>\n",
       "    <tr>\n",
       "      <th>1</th>\n",
       "      <td>1</td>\n",
       "      <td>WEILOI</td>\n",
       "      <td>ACT</td>\n",
       "      <td>800.0</td>\n",
       "      <td>160.0</td>\n",
       "    </tr>\n",
       "    <tr>\n",
       "      <th>2</th>\n",
       "      <td>2</td>\n",
       "      <td>WEILOI</td>\n",
       "      <td>ACT</td>\n",
       "      <td>10.0</td>\n",
       "      <td>2.0</td>\n",
       "    </tr>\n",
       "    <tr>\n",
       "      <th>3</th>\n",
       "      <td>3</td>\n",
       "      <td>WEILOI</td>\n",
       "      <td>ACT</td>\n",
       "      <td>NaN</td>\n",
       "      <td>NaN</td>\n",
       "    </tr>\n",
       "    <tr>\n",
       "      <th>4</th>\n",
       "      <td>4</td>\n",
       "      <td>WEILOI</td>\n",
       "      <td>ACT</td>\n",
       "      <td>700.0</td>\n",
       "      <td>140.0</td>\n",
       "    </tr>\n",
       "    <tr>\n",
       "      <th>...</th>\n",
       "      <td>...</td>\n",
       "      <td>...</td>\n",
       "      <td>...</td>\n",
       "      <td>...</td>\n",
       "      <td>...</td>\n",
       "    </tr>\n",
       "    <tr>\n",
       "      <th>23504</th>\n",
       "      <td>23504</td>\n",
       "      <td>TURA</td>\n",
       "      <td>ACT</td>\n",
       "      <td>NaN</td>\n",
       "      <td>NaN</td>\n",
       "    </tr>\n",
       "    <tr>\n",
       "      <th>23505</th>\n",
       "      <td>23505</td>\n",
       "      <td>TURA</td>\n",
       "      <td>ACT</td>\n",
       "      <td>NaN</td>\n",
       "      <td>NaN</td>\n",
       "    </tr>\n",
       "    <tr>\n",
       "      <th>23506</th>\n",
       "      <td>23506</td>\n",
       "      <td>TURA</td>\n",
       "      <td>ACT</td>\n",
       "      <td>NaN</td>\n",
       "      <td>NaN</td>\n",
       "    </tr>\n",
       "    <tr>\n",
       "      <th>23507</th>\n",
       "      <td>23507</td>\n",
       "      <td>TURA</td>\n",
       "      <td>ACT</td>\n",
       "      <td>17537.0</td>\n",
       "      <td>3507.4</td>\n",
       "    </tr>\n",
       "    <tr>\n",
       "      <th>23508</th>\n",
       "      <td>23508</td>\n",
       "      <td>WEILOI</td>\n",
       "      <td>ACT</td>\n",
       "      <td>NaN</td>\n",
       "      <td>NaN</td>\n",
       "    </tr>\n",
       "  </tbody>\n",
       "</table>\n",
       "<p>23509 rows × 5 columns</p>\n",
       "</div>"
      ],
      "text/plain": [
       "       index DIVISION bill_status  REALIZATION_PAYMENT     new\n",
       "0          0   WEILOI         ACT                490.0    98.0\n",
       "1          1   WEILOI         ACT                800.0   160.0\n",
       "2          2   WEILOI         ACT                 10.0     2.0\n",
       "3          3   WEILOI         ACT                  NaN     NaN\n",
       "4          4   WEILOI         ACT                700.0   140.0\n",
       "...      ...      ...         ...                  ...     ...\n",
       "23504  23504     TURA         ACT                  NaN     NaN\n",
       "23505  23505     TURA         ACT                  NaN     NaN\n",
       "23506  23506     TURA         ACT                  NaN     NaN\n",
       "23507  23507     TURA         ACT              17537.0  3507.4\n",
       "23508  23508   WEILOI         ACT                  NaN     NaN\n",
       "\n",
       "[23509 rows x 5 columns]"
      ]
     },
     "execution_count": 42,
     "metadata": {},
     "output_type": "execute_result"
    }
   ],
   "source": [
    "# reset index \n",
    "\n",
    "df.reset_index()"
   ]
  },
  {
   "cell_type": "code",
   "execution_count": 174,
   "id": "da57008c",
   "metadata": {},
   "outputs": [],
   "source": [
    "# loc and iloc(integer)\n",
    "\n",
    "# loc uses string while iloc uses intger to filter data"
   ]
  },
  {
   "cell_type": "code",
   "execution_count": 43,
   "id": "a613e717",
   "metadata": {},
   "outputs": [
    {
     "data": {
      "text/plain": [
       "DIVISION               WEILOI\n",
       "bill_status               ACT\n",
       "REALIZATION_PAYMENT     490.0\n",
       "new                      98.0\n",
       "Name: 0, dtype: object"
      ]
     },
     "execution_count": 43,
     "metadata": {},
     "output_type": "execute_result"
    }
   ],
   "source": [
    "# to select specific rows with index position\n",
    "\n",
    "df.iloc[0]    # first row"
   ]
  },
  {
   "cell_type": "code",
   "execution_count": 44,
   "id": "77d66997",
   "metadata": {},
   "outputs": [
    {
     "data": {
      "text/html": [
       "<div>\n",
       "<style scoped>\n",
       "    .dataframe tbody tr th:only-of-type {\n",
       "        vertical-align: middle;\n",
       "    }\n",
       "\n",
       "    .dataframe tbody tr th {\n",
       "        vertical-align: top;\n",
       "    }\n",
       "\n",
       "    .dataframe thead th {\n",
       "        text-align: right;\n",
       "    }\n",
       "</style>\n",
       "<table border=\"1\" class=\"dataframe\">\n",
       "  <thead>\n",
       "    <tr style=\"text-align: right;\">\n",
       "      <th></th>\n",
       "      <th>DIVISION</th>\n",
       "      <th>bill_status</th>\n",
       "      <th>REALIZATION_PAYMENT</th>\n",
       "      <th>new</th>\n",
       "    </tr>\n",
       "  </thead>\n",
       "  <tbody>\n",
       "    <tr>\n",
       "      <th>0</th>\n",
       "      <td>WEILOI</td>\n",
       "      <td>ACT</td>\n",
       "      <td>490.0</td>\n",
       "      <td>98.0</td>\n",
       "    </tr>\n",
       "    <tr>\n",
       "      <th>1</th>\n",
       "      <td>WEILOI</td>\n",
       "      <td>ACT</td>\n",
       "      <td>800.0</td>\n",
       "      <td>160.0</td>\n",
       "    </tr>\n",
       "    <tr>\n",
       "      <th>2</th>\n",
       "      <td>WEILOI</td>\n",
       "      <td>ACT</td>\n",
       "      <td>10.0</td>\n",
       "      <td>2.0</td>\n",
       "    </tr>\n",
       "  </tbody>\n",
       "</table>\n",
       "</div>"
      ],
      "text/plain": [
       "  DIVISION bill_status  REALIZATION_PAYMENT    new\n",
       "0   WEILOI         ACT                490.0   98.0\n",
       "1   WEILOI         ACT                800.0  160.0\n",
       "2   WEILOI         ACT                 10.0    2.0"
      ]
     },
     "execution_count": 44,
     "metadata": {},
     "output_type": "execute_result"
    }
   ],
   "source": [
    "# selecting customized rows\n",
    "\n",
    "df.iloc[:3]"
   ]
  },
  {
   "cell_type": "code",
   "execution_count": 55,
   "id": "3dcdf6a4",
   "metadata": {},
   "outputs": [],
   "source": [
    "# droping columns \n",
    "#df.drop(columns=['new'], axis=1,inplace=True)\n",
    "\n",
    "\n",
    "#droping rows \n",
    "#a=df[df['col']>34].index\n",
    "#df.drop(a, axis=0,inplace=True)"
   ]
  },
  {
   "cell_type": "code",
   "execution_count": 56,
   "id": "e2964ea7",
   "metadata": {},
   "outputs": [
    {
     "data": {
      "text/html": [
       "<div>\n",
       "<style scoped>\n",
       "    .dataframe tbody tr th:only-of-type {\n",
       "        vertical-align: middle;\n",
       "    }\n",
       "\n",
       "    .dataframe tbody tr th {\n",
       "        vertical-align: top;\n",
       "    }\n",
       "\n",
       "    .dataframe thead th {\n",
       "        text-align: right;\n",
       "    }\n",
       "</style>\n",
       "<table border=\"1\" class=\"dataframe\">\n",
       "  <thead>\n",
       "    <tr style=\"text-align: right;\">\n",
       "      <th></th>\n",
       "      <th>DIVISION</th>\n",
       "      <th>bill_status</th>\n",
       "      <th>REALIZATION_PAYMENT</th>\n",
       "      <th>new</th>\n",
       "    </tr>\n",
       "  </thead>\n",
       "  <tbody>\n",
       "    <tr>\n",
       "      <th>0</th>\n",
       "      <td>WEILOI</td>\n",
       "      <td>ACT</td>\n",
       "      <td>490.0</td>\n",
       "      <td>98.0</td>\n",
       "    </tr>\n",
       "    <tr>\n",
       "      <th>1</th>\n",
       "      <td>WEILOI</td>\n",
       "      <td>ACT</td>\n",
       "      <td>800.0</td>\n",
       "      <td>160.0</td>\n",
       "    </tr>\n",
       "    <tr>\n",
       "      <th>4</th>\n",
       "      <td>WEILOI</td>\n",
       "      <td>ACT</td>\n",
       "      <td>700.0</td>\n",
       "      <td>140.0</td>\n",
       "    </tr>\n",
       "    <tr>\n",
       "      <th>8</th>\n",
       "      <td>WEILOI</td>\n",
       "      <td>ACT</td>\n",
       "      <td>810.0</td>\n",
       "      <td>162.0</td>\n",
       "    </tr>\n",
       "    <tr>\n",
       "      <th>11</th>\n",
       "      <td>WEILOI</td>\n",
       "      <td>ACT</td>\n",
       "      <td>810.0</td>\n",
       "      <td>162.0</td>\n",
       "    </tr>\n",
       "    <tr>\n",
       "      <th>...</th>\n",
       "      <td>...</td>\n",
       "      <td>...</td>\n",
       "      <td>...</td>\n",
       "      <td>...</td>\n",
       "    </tr>\n",
       "    <tr>\n",
       "      <th>23497</th>\n",
       "      <td>WEILOI</td>\n",
       "      <td>ACT</td>\n",
       "      <td>2820.0</td>\n",
       "      <td>564.0</td>\n",
       "    </tr>\n",
       "    <tr>\n",
       "      <th>23498</th>\n",
       "      <td>TURA</td>\n",
       "      <td>ACT</td>\n",
       "      <td>13105.0</td>\n",
       "      <td>2621.0</td>\n",
       "    </tr>\n",
       "    <tr>\n",
       "      <th>23499</th>\n",
       "      <td>TURA</td>\n",
       "      <td>ACT</td>\n",
       "      <td>15095.0</td>\n",
       "      <td>3019.0</td>\n",
       "    </tr>\n",
       "    <tr>\n",
       "      <th>23503</th>\n",
       "      <td>TURA</td>\n",
       "      <td>ACT</td>\n",
       "      <td>2500.0</td>\n",
       "      <td>500.0</td>\n",
       "    </tr>\n",
       "    <tr>\n",
       "      <th>23507</th>\n",
       "      <td>TURA</td>\n",
       "      <td>ACT</td>\n",
       "      <td>17537.0</td>\n",
       "      <td>3507.4</td>\n",
       "    </tr>\n",
       "  </tbody>\n",
       "</table>\n",
       "<p>7920 rows × 4 columns</p>\n",
       "</div>"
      ],
      "text/plain": [
       "      DIVISION bill_status  REALIZATION_PAYMENT     new\n",
       "0       WEILOI         ACT                490.0    98.0\n",
       "1       WEILOI         ACT                800.0   160.0\n",
       "4       WEILOI         ACT                700.0   140.0\n",
       "8       WEILOI         ACT                810.0   162.0\n",
       "11      WEILOI         ACT                810.0   162.0\n",
       "...        ...         ...                  ...     ...\n",
       "23497   WEILOI         ACT               2820.0   564.0\n",
       "23498     TURA         ACT              13105.0  2621.0\n",
       "23499     TURA         ACT              15095.0  3019.0\n",
       "23503     TURA         ACT               2500.0   500.0\n",
       "23507     TURA         ACT              17537.0  3507.4\n",
       "\n",
       "[7920 rows x 4 columns]"
      ]
     },
     "execution_count": 56,
     "metadata": {},
     "output_type": "execute_result"
    }
   ],
   "source": [
    "# conditional filtering \n",
    "\n",
    "df[(df['new']>23)]"
   ]
  },
  {
   "cell_type": "code",
   "execution_count": 58,
   "id": "65ccc6e1",
   "metadata": {},
   "outputs": [
    {
     "data": {
      "text/plain": [
       "DIVISION               19726\n",
       "bill_status            19726\n",
       "REALIZATION_PAYMENT    11003\n",
       "new                    11003\n",
       "dtype: int64"
      ]
     },
     "execution_count": 58,
     "metadata": {},
     "output_type": "execute_result"
    }
   ],
   "source": [
    "df[df['bill_status']=='ACT'].count()"
   ]
  },
  {
   "cell_type": "code",
   "execution_count": 59,
   "id": "c4b1530c",
   "metadata": {},
   "outputs": [
    {
     "data": {
      "text/html": [
       "<div>\n",
       "<style scoped>\n",
       "    .dataframe tbody tr th:only-of-type {\n",
       "        vertical-align: middle;\n",
       "    }\n",
       "\n",
       "    .dataframe tbody tr th {\n",
       "        vertical-align: top;\n",
       "    }\n",
       "\n",
       "    .dataframe thead th {\n",
       "        text-align: right;\n",
       "    }\n",
       "</style>\n",
       "<table border=\"1\" class=\"dataframe\">\n",
       "  <thead>\n",
       "    <tr style=\"text-align: right;\">\n",
       "      <th></th>\n",
       "      <th>DIVISION</th>\n",
       "      <th>bill_status</th>\n",
       "      <th>REALIZATION_PAYMENT</th>\n",
       "      <th>new</th>\n",
       "    </tr>\n",
       "  </thead>\n",
       "  <tbody>\n",
       "    <tr>\n",
       "      <th>0</th>\n",
       "      <td>WEILOI</td>\n",
       "      <td>ACT</td>\n",
       "      <td>490.0</td>\n",
       "      <td>98.0</td>\n",
       "    </tr>\n",
       "    <tr>\n",
       "      <th>13</th>\n",
       "      <td>WEILOI</td>\n",
       "      <td>ACT</td>\n",
       "      <td>184.0</td>\n",
       "      <td>36.8</td>\n",
       "    </tr>\n",
       "    <tr>\n",
       "      <th>20</th>\n",
       "      <td>WEILOI</td>\n",
       "      <td>ACT</td>\n",
       "      <td>429.0</td>\n",
       "      <td>85.8</td>\n",
       "    </tr>\n",
       "    <tr>\n",
       "      <th>24</th>\n",
       "      <td>WEILOI</td>\n",
       "      <td>ACT</td>\n",
       "      <td>255.0</td>\n",
       "      <td>51.0</td>\n",
       "    </tr>\n",
       "    <tr>\n",
       "      <th>25</th>\n",
       "      <td>WEILOI</td>\n",
       "      <td>ACT</td>\n",
       "      <td>389.0</td>\n",
       "      <td>77.8</td>\n",
       "    </tr>\n",
       "    <tr>\n",
       "      <th>...</th>\n",
       "      <td>...</td>\n",
       "      <td>...</td>\n",
       "      <td>...</td>\n",
       "      <td>...</td>\n",
       "    </tr>\n",
       "    <tr>\n",
       "      <th>23165</th>\n",
       "      <td>WEILOI</td>\n",
       "      <td>ACT</td>\n",
       "      <td>144.0</td>\n",
       "      <td>28.8</td>\n",
       "    </tr>\n",
       "    <tr>\n",
       "      <th>23173</th>\n",
       "      <td>WEILOI</td>\n",
       "      <td>ACT</td>\n",
       "      <td>129.0</td>\n",
       "      <td>25.8</td>\n",
       "    </tr>\n",
       "    <tr>\n",
       "      <th>23197</th>\n",
       "      <td>WEILOI</td>\n",
       "      <td>ACT</td>\n",
       "      <td>318.0</td>\n",
       "      <td>63.6</td>\n",
       "    </tr>\n",
       "    <tr>\n",
       "      <th>23371</th>\n",
       "      <td>WEILOI</td>\n",
       "      <td>ACT</td>\n",
       "      <td>223.0</td>\n",
       "      <td>44.6</td>\n",
       "    </tr>\n",
       "    <tr>\n",
       "      <th>23414</th>\n",
       "      <td>WEILOI</td>\n",
       "      <td>ACT</td>\n",
       "      <td>405.0</td>\n",
       "      <td>81.0</td>\n",
       "    </tr>\n",
       "  </tbody>\n",
       "</table>\n",
       "<p>5314 rows × 4 columns</p>\n",
       "</div>"
      ],
      "text/plain": [
       "      DIVISION bill_status  REALIZATION_PAYMENT   new\n",
       "0       WEILOI         ACT                490.0  98.0\n",
       "13      WEILOI         ACT                184.0  36.8\n",
       "20      WEILOI         ACT                429.0  85.8\n",
       "24      WEILOI         ACT                255.0  51.0\n",
       "25      WEILOI         ACT                389.0  77.8\n",
       "...        ...         ...                  ...   ...\n",
       "23165   WEILOI         ACT                144.0  28.8\n",
       "23173   WEILOI         ACT                129.0  25.8\n",
       "23197   WEILOI         ACT                318.0  63.6\n",
       "23371   WEILOI         ACT                223.0  44.6\n",
       "23414   WEILOI         ACT                405.0  81.0\n",
       "\n",
       "[5314 rows x 4 columns]"
      ]
     },
     "execution_count": 59,
     "metadata": {},
     "output_type": "execute_result"
    }
   ],
   "source": [
    "#how to filter out with multiple condition\n",
    "\n",
    "# and --> & ==> where both condition need to be true\n",
    "# OR --> | ==> where either of condition must be true\n",
    "\n",
    "\n",
    "df[(df['new']>23)   &  (df['new']<100)]"
   ]
  },
  {
   "cell_type": "code",
   "execution_count": 60,
   "id": "651ae423",
   "metadata": {},
   "outputs": [
    {
     "data": {
      "text/html": [
       "<div>\n",
       "<style scoped>\n",
       "    .dataframe tbody tr th:only-of-type {\n",
       "        vertical-align: middle;\n",
       "    }\n",
       "\n",
       "    .dataframe tbody tr th {\n",
       "        vertical-align: top;\n",
       "    }\n",
       "\n",
       "    .dataframe thead th {\n",
       "        text-align: right;\n",
       "    }\n",
       "</style>\n",
       "<table border=\"1\" class=\"dataframe\">\n",
       "  <thead>\n",
       "    <tr style=\"text-align: right;\">\n",
       "      <th></th>\n",
       "      <th>DIVISION</th>\n",
       "      <th>bill_status</th>\n",
       "      <th>REALIZATION_PAYMENT</th>\n",
       "      <th>new</th>\n",
       "    </tr>\n",
       "  </thead>\n",
       "  <tbody>\n",
       "    <tr>\n",
       "      <th>0</th>\n",
       "      <td>WEILOI</td>\n",
       "      <td>ACT</td>\n",
       "      <td>490.0</td>\n",
       "      <td>98.0</td>\n",
       "    </tr>\n",
       "    <tr>\n",
       "      <th>1</th>\n",
       "      <td>WEILOI</td>\n",
       "      <td>ACT</td>\n",
       "      <td>800.0</td>\n",
       "      <td>160.0</td>\n",
       "    </tr>\n",
       "    <tr>\n",
       "      <th>2</th>\n",
       "      <td>WEILOI</td>\n",
       "      <td>ACT</td>\n",
       "      <td>10.0</td>\n",
       "      <td>2.0</td>\n",
       "    </tr>\n",
       "    <tr>\n",
       "      <th>3</th>\n",
       "      <td>WEILOI</td>\n",
       "      <td>ACT</td>\n",
       "      <td>NaN</td>\n",
       "      <td>NaN</td>\n",
       "    </tr>\n",
       "    <tr>\n",
       "      <th>4</th>\n",
       "      <td>WEILOI</td>\n",
       "      <td>ACT</td>\n",
       "      <td>700.0</td>\n",
       "      <td>140.0</td>\n",
       "    </tr>\n",
       "    <tr>\n",
       "      <th>...</th>\n",
       "      <td>...</td>\n",
       "      <td>...</td>\n",
       "      <td>...</td>\n",
       "      <td>...</td>\n",
       "    </tr>\n",
       "    <tr>\n",
       "      <th>23504</th>\n",
       "      <td>TURA</td>\n",
       "      <td>ACT</td>\n",
       "      <td>NaN</td>\n",
       "      <td>NaN</td>\n",
       "    </tr>\n",
       "    <tr>\n",
       "      <th>23505</th>\n",
       "      <td>TURA</td>\n",
       "      <td>ACT</td>\n",
       "      <td>NaN</td>\n",
       "      <td>NaN</td>\n",
       "    </tr>\n",
       "    <tr>\n",
       "      <th>23506</th>\n",
       "      <td>TURA</td>\n",
       "      <td>ACT</td>\n",
       "      <td>NaN</td>\n",
       "      <td>NaN</td>\n",
       "    </tr>\n",
       "    <tr>\n",
       "      <th>23507</th>\n",
       "      <td>TURA</td>\n",
       "      <td>ACT</td>\n",
       "      <td>17537.0</td>\n",
       "      <td>3507.4</td>\n",
       "    </tr>\n",
       "    <tr>\n",
       "      <th>23508</th>\n",
       "      <td>WEILOI</td>\n",
       "      <td>ACT</td>\n",
       "      <td>NaN</td>\n",
       "      <td>NaN</td>\n",
       "    </tr>\n",
       "  </tbody>\n",
       "</table>\n",
       "<p>19726 rows × 4 columns</p>\n",
       "</div>"
      ],
      "text/plain": [
       "      DIVISION bill_status  REALIZATION_PAYMENT     new\n",
       "0       WEILOI         ACT                490.0    98.0\n",
       "1       WEILOI         ACT                800.0   160.0\n",
       "2       WEILOI         ACT                 10.0     2.0\n",
       "3       WEILOI         ACT                  NaN     NaN\n",
       "4       WEILOI         ACT                700.0   140.0\n",
       "...        ...         ...                  ...     ...\n",
       "23504     TURA         ACT                  NaN     NaN\n",
       "23505     TURA         ACT                  NaN     NaN\n",
       "23506     TURA         ACT                  NaN     NaN\n",
       "23507     TURA         ACT              17537.0  3507.4\n",
       "23508   WEILOI         ACT                  NaN     NaN\n",
       "\n",
       "[19726 rows x 4 columns]"
      ]
     },
     "execution_count": 60,
     "metadata": {},
     "output_type": "execute_result"
    }
   ],
   "source": [
    "# another way of filtering \n",
    "\n",
    "df[df['bill_status'].isin(['ACT'])]"
   ]
  },
  {
   "cell_type": "code",
   "execution_count": 75,
   "id": "015a86eb",
   "metadata": {},
   "outputs": [],
   "source": [
    "# apply function \n",
    "\n",
    "def one_digit(num):\n",
    "    return str(num)[:1]\n"
   ]
  },
  {
   "cell_type": "code",
   "execution_count": 76,
   "id": "72a6e2bb",
   "metadata": {},
   "outputs": [
    {
     "data": {
      "text/plain": [
       "'2'"
      ]
     },
     "execution_count": 76,
     "metadata": {},
     "output_type": "execute_result"
    }
   ],
   "source": [
    "one_digit(2222)"
   ]
  },
  {
   "cell_type": "code",
   "execution_count": 99,
   "id": "0133e0a6",
   "metadata": {},
   "outputs": [
    {
     "data": {
      "text/plain": [
       "0        9\n",
       "1        1\n",
       "2        2\n",
       "3        n\n",
       "4        1\n",
       "        ..\n",
       "23504    n\n",
       "23505    n\n",
       "23506    n\n",
       "23507    3\n",
       "23508    n\n",
       "Name: my_col, Length: 23509, dtype: object"
      ]
     },
     "execution_count": 99,
     "metadata": {},
     "output_type": "execute_result"
    }
   ],
   "source": [
    "df['my_col']=df['new'].apply(one_digit)\n",
    "df['my_col']"
   ]
  },
  {
   "cell_type": "raw",
   "id": "c489df5a",
   "metadata": {},
   "source": [
    "# apply function with single column\n",
    "\n",
    "def edit(my_col):\n",
    "    if my_col >= 0:\n",
    "        return yes\n",
    "    else :       \n",
    "        return no   \n",
    "   \n",
    "df['my_col'].apply(edit) \n",
    "\n",
    "\n",
    "\n",
    "\n",
    "# apply funct with multiple columns\n",
    "\n",
    "def edit(col1,col2):\n",
    "    if col1/col2 >= 0:\n",
    "        return yes\n",
    "    else :       \n",
    "        return no\n",
    "      \n",
    "df[['col1','col2']].apply(lambda new_df:edit(new_df['col1','col2']) "
   ]
  },
  {
   "cell_type": "code",
   "execution_count": 102,
   "id": "e300a4a4",
   "metadata": {},
   "outputs": [
    {
     "data": {
      "text/html": [
       "<div>\n",
       "<style scoped>\n",
       "    .dataframe tbody tr th:only-of-type {\n",
       "        vertical-align: middle;\n",
       "    }\n",
       "\n",
       "    .dataframe tbody tr th {\n",
       "        vertical-align: top;\n",
       "    }\n",
       "\n",
       "    .dataframe thead th {\n",
       "        text-align: right;\n",
       "    }\n",
       "</style>\n",
       "<table border=\"1\" class=\"dataframe\">\n",
       "  <thead>\n",
       "    <tr style=\"text-align: right;\">\n",
       "      <th></th>\n",
       "      <th>DIVISION</th>\n",
       "      <th>bill_status</th>\n",
       "      <th>REALIZATION_PAYMENT</th>\n",
       "      <th>new</th>\n",
       "      <th>my_col</th>\n",
       "    </tr>\n",
       "  </thead>\n",
       "  <tbody>\n",
       "    <tr>\n",
       "      <th>22991</th>\n",
       "      <td>TURA</td>\n",
       "      <td>ACT</td>\n",
       "      <td>213872.0</td>\n",
       "      <td>42774.4</td>\n",
       "      <td>4</td>\n",
       "    </tr>\n",
       "    <tr>\n",
       "      <th>23229</th>\n",
       "      <td>WEILOI</td>\n",
       "      <td>ACT</td>\n",
       "      <td>114114.0</td>\n",
       "      <td>22822.8</td>\n",
       "      <td>2</td>\n",
       "    </tr>\n",
       "    <tr>\n",
       "      <th>23420</th>\n",
       "      <td>WEILOI</td>\n",
       "      <td>ACT</td>\n",
       "      <td>89571.0</td>\n",
       "      <td>17914.2</td>\n",
       "      <td>1</td>\n",
       "    </tr>\n",
       "    <tr>\n",
       "      <th>23418</th>\n",
       "      <td>WEILOI</td>\n",
       "      <td>ACT</td>\n",
       "      <td>86966.0</td>\n",
       "      <td>17393.2</td>\n",
       "      <td>1</td>\n",
       "    </tr>\n",
       "    <tr>\n",
       "      <th>23230</th>\n",
       "      <td>WEILOI</td>\n",
       "      <td>ACT</td>\n",
       "      <td>80730.0</td>\n",
       "      <td>16146.0</td>\n",
       "      <td>1</td>\n",
       "    </tr>\n",
       "    <tr>\n",
       "      <th>...</th>\n",
       "      <td>...</td>\n",
       "      <td>...</td>\n",
       "      <td>...</td>\n",
       "      <td>...</td>\n",
       "      <td>...</td>\n",
       "    </tr>\n",
       "    <tr>\n",
       "      <th>23502</th>\n",
       "      <td>TURA</td>\n",
       "      <td>ACT</td>\n",
       "      <td>NaN</td>\n",
       "      <td>NaN</td>\n",
       "      <td>n</td>\n",
       "    </tr>\n",
       "    <tr>\n",
       "      <th>23504</th>\n",
       "      <td>TURA</td>\n",
       "      <td>ACT</td>\n",
       "      <td>NaN</td>\n",
       "      <td>NaN</td>\n",
       "      <td>n</td>\n",
       "    </tr>\n",
       "    <tr>\n",
       "      <th>23505</th>\n",
       "      <td>TURA</td>\n",
       "      <td>ACT</td>\n",
       "      <td>NaN</td>\n",
       "      <td>NaN</td>\n",
       "      <td>n</td>\n",
       "    </tr>\n",
       "    <tr>\n",
       "      <th>23506</th>\n",
       "      <td>TURA</td>\n",
       "      <td>ACT</td>\n",
       "      <td>NaN</td>\n",
       "      <td>NaN</td>\n",
       "      <td>n</td>\n",
       "    </tr>\n",
       "    <tr>\n",
       "      <th>23508</th>\n",
       "      <td>WEILOI</td>\n",
       "      <td>ACT</td>\n",
       "      <td>NaN</td>\n",
       "      <td>NaN</td>\n",
       "      <td>n</td>\n",
       "    </tr>\n",
       "  </tbody>\n",
       "</table>\n",
       "<p>23509 rows × 5 columns</p>\n",
       "</div>"
      ],
      "text/plain": [
       "      DIVISION bill_status  REALIZATION_PAYMENT      new my_col\n",
       "22991     TURA         ACT             213872.0  42774.4      4\n",
       "23229   WEILOI         ACT             114114.0  22822.8      2\n",
       "23420   WEILOI         ACT              89571.0  17914.2      1\n",
       "23418   WEILOI         ACT              86966.0  17393.2      1\n",
       "23230   WEILOI         ACT              80730.0  16146.0      1\n",
       "...        ...         ...                  ...      ...    ...\n",
       "23502     TURA         ACT                  NaN      NaN      n\n",
       "23504     TURA         ACT                  NaN      NaN      n\n",
       "23505     TURA         ACT                  NaN      NaN      n\n",
       "23506     TURA         ACT                  NaN      NaN      n\n",
       "23508   WEILOI         ACT                  NaN      NaN      n\n",
       "\n",
       "[23509 rows x 5 columns]"
      ]
     },
     "execution_count": 102,
     "metadata": {},
     "output_type": "execute_result"
    }
   ],
   "source": [
    "# sorting the values \n",
    "\n",
    "df.sort_values('REALIZATION_PAYMENT',ascending=False)"
   ]
  },
  {
   "cell_type": "code",
   "execution_count": 104,
   "id": "70be16d5",
   "metadata": {},
   "outputs": [
    {
     "data": {
      "text/html": [
       "<div>\n",
       "<style scoped>\n",
       "    .dataframe tbody tr th:only-of-type {\n",
       "        vertical-align: middle;\n",
       "    }\n",
       "\n",
       "    .dataframe tbody tr th {\n",
       "        vertical-align: top;\n",
       "    }\n",
       "\n",
       "    .dataframe thead th {\n",
       "        text-align: right;\n",
       "    }\n",
       "</style>\n",
       "<table border=\"1\" class=\"dataframe\">\n",
       "  <thead>\n",
       "    <tr style=\"text-align: right;\">\n",
       "      <th></th>\n",
       "      <th>DIVISION</th>\n",
       "      <th>bill_status</th>\n",
       "      <th>REALIZATION_PAYMENT</th>\n",
       "      <th>new</th>\n",
       "      <th>my_col</th>\n",
       "    </tr>\n",
       "  </thead>\n",
       "  <tbody>\n",
       "    <tr>\n",
       "      <th>22991</th>\n",
       "      <td>TURA</td>\n",
       "      <td>ACT</td>\n",
       "      <td>213872.0</td>\n",
       "      <td>42774.4</td>\n",
       "      <td>4</td>\n",
       "    </tr>\n",
       "    <tr>\n",
       "      <th>23229</th>\n",
       "      <td>WEILOI</td>\n",
       "      <td>ACT</td>\n",
       "      <td>114114.0</td>\n",
       "      <td>22822.8</td>\n",
       "      <td>2</td>\n",
       "    </tr>\n",
       "    <tr>\n",
       "      <th>23420</th>\n",
       "      <td>WEILOI</td>\n",
       "      <td>ACT</td>\n",
       "      <td>89571.0</td>\n",
       "      <td>17914.2</td>\n",
       "      <td>1</td>\n",
       "    </tr>\n",
       "    <tr>\n",
       "      <th>23418</th>\n",
       "      <td>WEILOI</td>\n",
       "      <td>ACT</td>\n",
       "      <td>86966.0</td>\n",
       "      <td>17393.2</td>\n",
       "      <td>1</td>\n",
       "    </tr>\n",
       "    <tr>\n",
       "      <th>23230</th>\n",
       "      <td>WEILOI</td>\n",
       "      <td>ACT</td>\n",
       "      <td>80730.0</td>\n",
       "      <td>16146.0</td>\n",
       "      <td>1</td>\n",
       "    </tr>\n",
       "    <tr>\n",
       "      <th>...</th>\n",
       "      <td>...</td>\n",
       "      <td>...</td>\n",
       "      <td>...</td>\n",
       "      <td>...</td>\n",
       "      <td>...</td>\n",
       "    </tr>\n",
       "    <tr>\n",
       "      <th>23502</th>\n",
       "      <td>TURA</td>\n",
       "      <td>ACT</td>\n",
       "      <td>NaN</td>\n",
       "      <td>NaN</td>\n",
       "      <td>n</td>\n",
       "    </tr>\n",
       "    <tr>\n",
       "      <th>23504</th>\n",
       "      <td>TURA</td>\n",
       "      <td>ACT</td>\n",
       "      <td>NaN</td>\n",
       "      <td>NaN</td>\n",
       "      <td>n</td>\n",
       "    </tr>\n",
       "    <tr>\n",
       "      <th>23505</th>\n",
       "      <td>TURA</td>\n",
       "      <td>ACT</td>\n",
       "      <td>NaN</td>\n",
       "      <td>NaN</td>\n",
       "      <td>n</td>\n",
       "    </tr>\n",
       "    <tr>\n",
       "      <th>23506</th>\n",
       "      <td>TURA</td>\n",
       "      <td>ACT</td>\n",
       "      <td>NaN</td>\n",
       "      <td>NaN</td>\n",
       "      <td>n</td>\n",
       "    </tr>\n",
       "    <tr>\n",
       "      <th>23508</th>\n",
       "      <td>WEILOI</td>\n",
       "      <td>ACT</td>\n",
       "      <td>NaN</td>\n",
       "      <td>NaN</td>\n",
       "      <td>n</td>\n",
       "    </tr>\n",
       "  </tbody>\n",
       "</table>\n",
       "<p>23509 rows × 5 columns</p>\n",
       "</div>"
      ],
      "text/plain": [
       "      DIVISION bill_status  REALIZATION_PAYMENT      new my_col\n",
       "22991     TURA         ACT             213872.0  42774.4      4\n",
       "23229   WEILOI         ACT             114114.0  22822.8      2\n",
       "23420   WEILOI         ACT              89571.0  17914.2      1\n",
       "23418   WEILOI         ACT              86966.0  17393.2      1\n",
       "23230   WEILOI         ACT              80730.0  16146.0      1\n",
       "...        ...         ...                  ...      ...    ...\n",
       "23502     TURA         ACT                  NaN      NaN      n\n",
       "23504     TURA         ACT                  NaN      NaN      n\n",
       "23505     TURA         ACT                  NaN      NaN      n\n",
       "23506     TURA         ACT                  NaN      NaN      n\n",
       "23508   WEILOI         ACT                  NaN      NaN      n\n",
       "\n",
       "[23509 rows x 5 columns]"
      ]
     },
     "execution_count": 104,
     "metadata": {},
     "output_type": "execute_result"
    }
   ],
   "source": [
    "# sorting with multiple columns\n",
    "\n",
    "df.sort_values(['REALIZATION_PAYMENT','new'],ascending=False)"
   ]
  },
  {
   "cell_type": "code",
   "execution_count": 108,
   "id": "dd3fb4fb",
   "metadata": {},
   "outputs": [
    {
     "data": {
      "text/plain": [
       "(42774.4, 0.6, 22991)"
      ]
     },
     "execution_count": 108,
     "metadata": {},
     "output_type": "execute_result"
    }
   ],
   "source": [
    "#max,min,index of max\n",
    "\n",
    "df['new'].max(),df['new'].min(),df['new'].idxmax()"
   ]
  },
  {
   "cell_type": "code",
   "execution_count": 109,
   "id": "4034a135",
   "metadata": {},
   "outputs": [
    {
     "data": {
      "text/plain": [
       "DIVISION               WILLIAM NAGAR\n",
       "bill_status                      ACT\n",
       "REALIZATION_PAYMENT              NaN\n",
       "new                              NaN\n",
       "my_col                             n\n",
       "Name: 44, dtype: object"
      ]
     },
     "execution_count": 109,
     "metadata": {},
     "output_type": "execute_result"
    }
   ],
   "source": [
    "df.iloc[44]"
   ]
  },
  {
   "cell_type": "code",
   "execution_count": 114,
   "id": "479ae1b0",
   "metadata": {},
   "outputs": [
    {
     "data": {
      "text/plain": [
       "(WEILOI           14656\n",
       " TURA              7121\n",
       " WILLIAM NAGAR     1732\n",
       " Name: DIVISION, dtype: int64,\n",
       " array(['WEILOI', 'WILLIAM NAGAR', 'TURA'], dtype=object),\n",
       " 3)"
      ]
     },
     "execution_count": 114,
     "metadata": {},
     "output_type": "execute_result"
    }
   ],
   "source": [
    "df['DIVISION'].value_counts(),df['DIVISION'].unique(),df['DIVISION'].nunique()"
   ]
  },
  {
   "cell_type": "code",
   "execution_count": 117,
   "id": "9c195540",
   "metadata": {},
   "outputs": [
    {
     "data": {
      "text/plain": [
       "0        a\n",
       "1        a\n",
       "2        a\n",
       "3        a\n",
       "4        a\n",
       "        ..\n",
       "23504    c\n",
       "23505    c\n",
       "23506    c\n",
       "23507    c\n",
       "23508    a\n",
       "Name: DIVISION, Length: 23509, dtype: object"
      ]
     },
     "execution_count": 117,
     "metadata": {},
     "output_type": "execute_result"
    }
   ],
   "source": [
    "# replace values in cols\n",
    "\n",
    "df['DIVISION'].replace(['WEILOI', 'WILLIAM NAGAR', 'TURA'],['a','b','c'])"
   ]
  },
  {
   "cell_type": "code",
   "execution_count": 120,
   "id": "d82fd647",
   "metadata": {},
   "outputs": [
    {
     "data": {
      "text/plain": [
       "0        a\n",
       "1        a\n",
       "2        a\n",
       "3        a\n",
       "4        a\n",
       "        ..\n",
       "23504    c\n",
       "23505    c\n",
       "23506    c\n",
       "23507    c\n",
       "23508    a\n",
       "Name: DIVISION, Length: 23509, dtype: object"
      ]
     },
     "execution_count": 120,
     "metadata": {},
     "output_type": "execute_result"
    }
   ],
   "source": [
    "# alternate ways \n",
    "\n",
    "df['DIVISION'].map({'WEILOI':'a', 'WILLIAM NAGAR':'b', 'TURA':'c'})"
   ]
  },
  {
   "cell_type": "code",
   "execution_count": 122,
   "id": "803da10e",
   "metadata": {},
   "outputs": [
    {
     "data": {
      "text/plain": [
       "(0        False\n",
       " 1        False\n",
       " 2        False\n",
       " 3        False\n",
       " 4        False\n",
       "          ...  \n",
       " 23504     True\n",
       " 23505     True\n",
       " 23506     True\n",
       " 23507    False\n",
       " 23508     True\n",
       " Length: 23509, dtype: bool,\n",
       "       DIVISION bill_status  REALIZATION_PAYMENT     new my_col\n",
       " 0       WEILOI         ACT                490.0    98.0      9\n",
       " 1       WEILOI         ACT                800.0   160.0      1\n",
       " 2       WEILOI         ACT                 10.0     2.0      2\n",
       " 3       WEILOI         ACT                  NaN     NaN      n\n",
       " 4       WEILOI         ACT                700.0   140.0      1\n",
       " ...        ...         ...                  ...     ...    ...\n",
       " 23494     TURA         ACT              24258.0  4851.6      4\n",
       " 23497   WEILOI         ACT               2820.0   564.0      5\n",
       " 23498     TURA         ACT              13105.0  2621.0      2\n",
       " 23499     TURA         ACT              15095.0  3019.0      3\n",
       " 23507     TURA         ACT              17537.0  3507.4      3\n",
       " \n",
       " [1869 rows x 5 columns])"
      ]
     },
     "execution_count": 122,
     "metadata": {},
     "output_type": "execute_result"
    }
   ],
   "source": [
    "# treat duplicats \n",
    "\n",
    "df.duplicated(),df.drop_duplicates()"
   ]
  },
  {
   "cell_type": "code",
   "execution_count": 123,
   "id": "282ac155",
   "metadata": {},
   "outputs": [
    {
     "name": "stderr",
     "output_type": "stream",
     "text": [
      "C:\\Users\\mangeshk\\AppData\\Local\\Temp\\ipykernel_29060\\2928928593.py:3: FutureWarning: Boolean inputs to the `inclusive` argument are deprecated in favour of `both` or `neither`.\n",
      "  df[df['REALIZATION_PAYMENT'].between(100,200,inclusive=True)]\n"
     ]
    },
    {
     "data": {
      "text/html": [
       "<div>\n",
       "<style scoped>\n",
       "    .dataframe tbody tr th:only-of-type {\n",
       "        vertical-align: middle;\n",
       "    }\n",
       "\n",
       "    .dataframe tbody tr th {\n",
       "        vertical-align: top;\n",
       "    }\n",
       "\n",
       "    .dataframe thead th {\n",
       "        text-align: right;\n",
       "    }\n",
       "</style>\n",
       "<table border=\"1\" class=\"dataframe\">\n",
       "  <thead>\n",
       "    <tr style=\"text-align: right;\">\n",
       "      <th></th>\n",
       "      <th>DIVISION</th>\n",
       "      <th>bill_status</th>\n",
       "      <th>REALIZATION_PAYMENT</th>\n",
       "      <th>new</th>\n",
       "      <th>my_col</th>\n",
       "    </tr>\n",
       "  </thead>\n",
       "  <tbody>\n",
       "    <tr>\n",
       "      <th>13</th>\n",
       "      <td>WEILOI</td>\n",
       "      <td>ACT</td>\n",
       "      <td>184.0</td>\n",
       "      <td>36.8</td>\n",
       "      <td>3</td>\n",
       "    </tr>\n",
       "    <tr>\n",
       "      <th>27</th>\n",
       "      <td>WEILOI</td>\n",
       "      <td>ACT</td>\n",
       "      <td>192.0</td>\n",
       "      <td>38.4</td>\n",
       "      <td>3</td>\n",
       "    </tr>\n",
       "    <tr>\n",
       "      <th>35</th>\n",
       "      <td>WEILOI</td>\n",
       "      <td>ACT</td>\n",
       "      <td>180.0</td>\n",
       "      <td>36.0</td>\n",
       "      <td>3</td>\n",
       "    </tr>\n",
       "    <tr>\n",
       "      <th>36</th>\n",
       "      <td>WILLIAM NAGAR</td>\n",
       "      <td>ACT</td>\n",
       "      <td>180.0</td>\n",
       "      <td>36.0</td>\n",
       "      <td>3</td>\n",
       "    </tr>\n",
       "    <tr>\n",
       "      <th>40</th>\n",
       "      <td>WILLIAM NAGAR</td>\n",
       "      <td>ACT</td>\n",
       "      <td>100.0</td>\n",
       "      <td>20.0</td>\n",
       "      <td>2</td>\n",
       "    </tr>\n",
       "    <tr>\n",
       "      <th>...</th>\n",
       "      <td>...</td>\n",
       "      <td>...</td>\n",
       "      <td>...</td>\n",
       "      <td>...</td>\n",
       "      <td>...</td>\n",
       "    </tr>\n",
       "    <tr>\n",
       "      <th>22840</th>\n",
       "      <td>WILLIAM NAGAR</td>\n",
       "      <td>ACT</td>\n",
       "      <td>200.0</td>\n",
       "      <td>40.0</td>\n",
       "      <td>4</td>\n",
       "    </tr>\n",
       "    <tr>\n",
       "      <th>23075</th>\n",
       "      <td>WEILOI</td>\n",
       "      <td>ACT</td>\n",
       "      <td>146.0</td>\n",
       "      <td>29.2</td>\n",
       "      <td>2</td>\n",
       "    </tr>\n",
       "    <tr>\n",
       "      <th>23077</th>\n",
       "      <td>WEILOI</td>\n",
       "      <td>ACT</td>\n",
       "      <td>180.0</td>\n",
       "      <td>36.0</td>\n",
       "      <td>3</td>\n",
       "    </tr>\n",
       "    <tr>\n",
       "      <th>23165</th>\n",
       "      <td>WEILOI</td>\n",
       "      <td>ACT</td>\n",
       "      <td>144.0</td>\n",
       "      <td>28.8</td>\n",
       "      <td>2</td>\n",
       "    </tr>\n",
       "    <tr>\n",
       "      <th>23173</th>\n",
       "      <td>WEILOI</td>\n",
       "      <td>ACT</td>\n",
       "      <td>129.0</td>\n",
       "      <td>25.8</td>\n",
       "      <td>2</td>\n",
       "    </tr>\n",
       "  </tbody>\n",
       "</table>\n",
       "<p>3269 rows × 5 columns</p>\n",
       "</div>"
      ],
      "text/plain": [
       "            DIVISION bill_status  REALIZATION_PAYMENT   new my_col\n",
       "13            WEILOI         ACT                184.0  36.8      3\n",
       "27            WEILOI         ACT                192.0  38.4      3\n",
       "35            WEILOI         ACT                180.0  36.0      3\n",
       "36     WILLIAM NAGAR         ACT                180.0  36.0      3\n",
       "40     WILLIAM NAGAR         ACT                100.0  20.0      2\n",
       "...              ...         ...                  ...   ...    ...\n",
       "22840  WILLIAM NAGAR         ACT                200.0  40.0      4\n",
       "23075         WEILOI         ACT                146.0  29.2      2\n",
       "23077         WEILOI         ACT                180.0  36.0      3\n",
       "23165         WEILOI         ACT                144.0  28.8      2\n",
       "23173         WEILOI         ACT                129.0  25.8      2\n",
       "\n",
       "[3269 rows x 5 columns]"
      ]
     },
     "execution_count": 123,
     "metadata": {},
     "output_type": "execute_result"
    }
   ],
   "source": [
    "# between function\n",
    "\n",
    "df[df['REALIZATION_PAYMENT'].between(100,200,inclusive=True)]"
   ]
  },
  {
   "cell_type": "code",
   "execution_count": 124,
   "id": "ae78094d",
   "metadata": {
    "scrolled": true
   },
   "outputs": [
    {
     "data": {
      "text/html": [
       "<div>\n",
       "<style scoped>\n",
       "    .dataframe tbody tr th:only-of-type {\n",
       "        vertical-align: middle;\n",
       "    }\n",
       "\n",
       "    .dataframe tbody tr th {\n",
       "        vertical-align: top;\n",
       "    }\n",
       "\n",
       "    .dataframe thead th {\n",
       "        text-align: right;\n",
       "    }\n",
       "</style>\n",
       "<table border=\"1\" class=\"dataframe\">\n",
       "  <thead>\n",
       "    <tr style=\"text-align: right;\">\n",
       "      <th></th>\n",
       "      <th>DIVISION</th>\n",
       "      <th>bill_status</th>\n",
       "      <th>REALIZATION_PAYMENT</th>\n",
       "      <th>new</th>\n",
       "      <th>my_col</th>\n",
       "    </tr>\n",
       "  </thead>\n",
       "  <tbody>\n",
       "    <tr>\n",
       "      <th>22991</th>\n",
       "      <td>TURA</td>\n",
       "      <td>ACT</td>\n",
       "      <td>213872.0</td>\n",
       "      <td>42774.4</td>\n",
       "      <td>4</td>\n",
       "    </tr>\n",
       "    <tr>\n",
       "      <th>23229</th>\n",
       "      <td>WEILOI</td>\n",
       "      <td>ACT</td>\n",
       "      <td>114114.0</td>\n",
       "      <td>22822.8</td>\n",
       "      <td>2</td>\n",
       "    </tr>\n",
       "    <tr>\n",
       "      <th>23420</th>\n",
       "      <td>WEILOI</td>\n",
       "      <td>ACT</td>\n",
       "      <td>89571.0</td>\n",
       "      <td>17914.2</td>\n",
       "      <td>1</td>\n",
       "    </tr>\n",
       "    <tr>\n",
       "      <th>23418</th>\n",
       "      <td>WEILOI</td>\n",
       "      <td>ACT</td>\n",
       "      <td>86966.0</td>\n",
       "      <td>17393.2</td>\n",
       "      <td>1</td>\n",
       "    </tr>\n",
       "    <tr>\n",
       "      <th>23230</th>\n",
       "      <td>WEILOI</td>\n",
       "      <td>ACT</td>\n",
       "      <td>80730.0</td>\n",
       "      <td>16146.0</td>\n",
       "      <td>1</td>\n",
       "    </tr>\n",
       "  </tbody>\n",
       "</table>\n",
       "</div>"
      ],
      "text/plain": [
       "      DIVISION bill_status  REALIZATION_PAYMENT      new my_col\n",
       "22991     TURA         ACT             213872.0  42774.4      4\n",
       "23229   WEILOI         ACT             114114.0  22822.8      2\n",
       "23420   WEILOI         ACT              89571.0  17914.2      1\n",
       "23418   WEILOI         ACT              86966.0  17393.2      1\n",
       "23230   WEILOI         ACT              80730.0  16146.0      1"
      ]
     },
     "execution_count": 124,
     "metadata": {},
     "output_type": "execute_result"
    }
   ],
   "source": [
    "# top and least 5\n",
    "\n",
    "df.nlargest(5,'REALIZATION_PAYMENT')"
   ]
  },
  {
   "cell_type": "code",
   "execution_count": 125,
   "id": "51d3aba4",
   "metadata": {},
   "outputs": [
    {
     "data": {
      "text/html": [
       "<div>\n",
       "<style scoped>\n",
       "    .dataframe tbody tr th:only-of-type {\n",
       "        vertical-align: middle;\n",
       "    }\n",
       "\n",
       "    .dataframe tbody tr th {\n",
       "        vertical-align: top;\n",
       "    }\n",
       "\n",
       "    .dataframe thead th {\n",
       "        text-align: right;\n",
       "    }\n",
       "</style>\n",
       "<table border=\"1\" class=\"dataframe\">\n",
       "  <thead>\n",
       "    <tr style=\"text-align: right;\">\n",
       "      <th></th>\n",
       "      <th>DIVISION</th>\n",
       "      <th>bill_status</th>\n",
       "      <th>REALIZATION_PAYMENT</th>\n",
       "      <th>new</th>\n",
       "      <th>my_col</th>\n",
       "    </tr>\n",
       "  </thead>\n",
       "  <tbody>\n",
       "    <tr>\n",
       "      <th>3420</th>\n",
       "      <td>WEILOI</td>\n",
       "      <td>ACT</td>\n",
       "      <td>3.0</td>\n",
       "      <td>0.6</td>\n",
       "      <td>0</td>\n",
       "    </tr>\n",
       "    <tr>\n",
       "      <th>4668</th>\n",
       "      <td>WEILOI</td>\n",
       "      <td>ACT</td>\n",
       "      <td>3.0</td>\n",
       "      <td>0.6</td>\n",
       "      <td>0</td>\n",
       "    </tr>\n",
       "    <tr>\n",
       "      <th>4675</th>\n",
       "      <td>WEILOI</td>\n",
       "      <td>ACT</td>\n",
       "      <td>3.0</td>\n",
       "      <td>0.6</td>\n",
       "      <td>0</td>\n",
       "    </tr>\n",
       "    <tr>\n",
       "      <th>5636</th>\n",
       "      <td>WEILOI</td>\n",
       "      <td>ACT</td>\n",
       "      <td>3.0</td>\n",
       "      <td>0.6</td>\n",
       "      <td>0</td>\n",
       "    </tr>\n",
       "    <tr>\n",
       "      <th>6704</th>\n",
       "      <td>WEILOI</td>\n",
       "      <td>ACT</td>\n",
       "      <td>3.0</td>\n",
       "      <td>0.6</td>\n",
       "      <td>0</td>\n",
       "    </tr>\n",
       "  </tbody>\n",
       "</table>\n",
       "</div>"
      ],
      "text/plain": [
       "     DIVISION bill_status  REALIZATION_PAYMENT  new my_col\n",
       "3420   WEILOI         ACT                  3.0  0.6      0\n",
       "4668   WEILOI         ACT                  3.0  0.6      0\n",
       "4675   WEILOI         ACT                  3.0  0.6      0\n",
       "5636   WEILOI         ACT                  3.0  0.6      0\n",
       "6704   WEILOI         ACT                  3.0  0.6      0"
      ]
     },
     "execution_count": 125,
     "metadata": {},
     "output_type": "execute_result"
    }
   ],
   "source": [
    "df.nsmallest(5,'REALIZATION_PAYMENT')"
   ]
  },
  {
   "cell_type": "code",
   "execution_count": 127,
   "id": "52c7f936",
   "metadata": {},
   "outputs": [
    {
     "data": {
      "text/html": [
       "<div>\n",
       "<style scoped>\n",
       "    .dataframe tbody tr th:only-of-type {\n",
       "        vertical-align: middle;\n",
       "    }\n",
       "\n",
       "    .dataframe tbody tr th {\n",
       "        vertical-align: top;\n",
       "    }\n",
       "\n",
       "    .dataframe thead th {\n",
       "        text-align: right;\n",
       "    }\n",
       "</style>\n",
       "<table border=\"1\" class=\"dataframe\">\n",
       "  <thead>\n",
       "    <tr style=\"text-align: right;\">\n",
       "      <th></th>\n",
       "      <th>DIVISION</th>\n",
       "      <th>bill_status</th>\n",
       "      <th>REALIZATION_PAYMENT</th>\n",
       "      <th>new</th>\n",
       "      <th>my_col</th>\n",
       "    </tr>\n",
       "  </thead>\n",
       "  <tbody>\n",
       "    <tr>\n",
       "      <th>15186</th>\n",
       "      <td>TURA</td>\n",
       "      <td>ACT</td>\n",
       "      <td>NaN</td>\n",
       "      <td>NaN</td>\n",
       "      <td>n</td>\n",
       "    </tr>\n",
       "    <tr>\n",
       "      <th>2569</th>\n",
       "      <td>WEILOI</td>\n",
       "      <td>ACT</td>\n",
       "      <td>NaN</td>\n",
       "      <td>NaN</td>\n",
       "      <td>n</td>\n",
       "    </tr>\n",
       "    <tr>\n",
       "      <th>22760</th>\n",
       "      <td>WILLIAM NAGAR</td>\n",
       "      <td>ACT</td>\n",
       "      <td>700.0</td>\n",
       "      <td>140.0</td>\n",
       "      <td>1</td>\n",
       "    </tr>\n",
       "    <tr>\n",
       "      <th>2560</th>\n",
       "      <td>WEILOI</td>\n",
       "      <td>ACT</td>\n",
       "      <td>NaN</td>\n",
       "      <td>NaN</td>\n",
       "      <td>n</td>\n",
       "    </tr>\n",
       "    <tr>\n",
       "      <th>12992</th>\n",
       "      <td>TURA</td>\n",
       "      <td>BACKEND</td>\n",
       "      <td>NaN</td>\n",
       "      <td>NaN</td>\n",
       "      <td>n</td>\n",
       "    </tr>\n",
       "  </tbody>\n",
       "</table>\n",
       "</div>"
      ],
      "text/plain": [
       "            DIVISION bill_status  REALIZATION_PAYMENT    new my_col\n",
       "15186           TURA         ACT                  NaN    NaN      n\n",
       "2569          WEILOI         ACT                  NaN    NaN      n\n",
       "22760  WILLIAM NAGAR         ACT                700.0  140.0      1\n",
       "2560          WEILOI         ACT                  NaN    NaN      n\n",
       "12992           TURA     BACKEND                  NaN    NaN      n"
      ]
     },
     "execution_count": 127,
     "metadata": {},
     "output_type": "execute_result"
    }
   ],
   "source": [
    "# random rows\n",
    "\n",
    "df.sample(5)"
   ]
  },
  {
   "cell_type": "code",
   "execution_count": 129,
   "id": "adaa99fb",
   "metadata": {},
   "outputs": [
    {
     "data": {
      "text/html": [
       "<div>\n",
       "<style scoped>\n",
       "    .dataframe tbody tr th:only-of-type {\n",
       "        vertical-align: middle;\n",
       "    }\n",
       "\n",
       "    .dataframe tbody tr th {\n",
       "        vertical-align: top;\n",
       "    }\n",
       "\n",
       "    .dataframe thead th {\n",
       "        text-align: right;\n",
       "    }\n",
       "</style>\n",
       "<table border=\"1\" class=\"dataframe\">\n",
       "  <thead>\n",
       "    <tr style=\"text-align: right;\">\n",
       "      <th></th>\n",
       "      <th>DIVISION</th>\n",
       "      <th>bill_status</th>\n",
       "      <th>REALIZATION_PAYMENT</th>\n",
       "      <th>new</th>\n",
       "      <th>my_col</th>\n",
       "    </tr>\n",
       "  </thead>\n",
       "  <tbody>\n",
       "    <tr>\n",
       "      <th>6142</th>\n",
       "      <td>WEILOI</td>\n",
       "      <td>ACT</td>\n",
       "      <td>NaN</td>\n",
       "      <td>NaN</td>\n",
       "      <td>n</td>\n",
       "    </tr>\n",
       "    <tr>\n",
       "      <th>19666</th>\n",
       "      <td>WEILOI</td>\n",
       "      <td>ACT</td>\n",
       "      <td>400.0</td>\n",
       "      <td>80.0</td>\n",
       "      <td>8</td>\n",
       "    </tr>\n",
       "    <tr>\n",
       "      <th>3344</th>\n",
       "      <td>WEILOI</td>\n",
       "      <td>ACT</td>\n",
       "      <td>NaN</td>\n",
       "      <td>NaN</td>\n",
       "      <td>n</td>\n",
       "    </tr>\n",
       "    <tr>\n",
       "      <th>8247</th>\n",
       "      <td>WEILOI</td>\n",
       "      <td>BACKEND</td>\n",
       "      <td>NaN</td>\n",
       "      <td>NaN</td>\n",
       "      <td>n</td>\n",
       "    </tr>\n",
       "    <tr>\n",
       "      <th>5990</th>\n",
       "      <td>WEILOI</td>\n",
       "      <td>ACT</td>\n",
       "      <td>11.0</td>\n",
       "      <td>2.2</td>\n",
       "      <td>2</td>\n",
       "    </tr>\n",
       "    <tr>\n",
       "      <th>...</th>\n",
       "      <td>...</td>\n",
       "      <td>...</td>\n",
       "      <td>...</td>\n",
       "      <td>...</td>\n",
       "      <td>...</td>\n",
       "    </tr>\n",
       "    <tr>\n",
       "      <th>20126</th>\n",
       "      <td>WEILOI</td>\n",
       "      <td>ACT</td>\n",
       "      <td>NaN</td>\n",
       "      <td>NaN</td>\n",
       "      <td>n</td>\n",
       "    </tr>\n",
       "    <tr>\n",
       "      <th>9630</th>\n",
       "      <td>TURA</td>\n",
       "      <td>BACKEND</td>\n",
       "      <td>NaN</td>\n",
       "      <td>NaN</td>\n",
       "      <td>n</td>\n",
       "    </tr>\n",
       "    <tr>\n",
       "      <th>15621</th>\n",
       "      <td>TURA</td>\n",
       "      <td>BACKEND</td>\n",
       "      <td>NaN</td>\n",
       "      <td>NaN</td>\n",
       "      <td>n</td>\n",
       "    </tr>\n",
       "    <tr>\n",
       "      <th>1313</th>\n",
       "      <td>WEILOI</td>\n",
       "      <td>ACT</td>\n",
       "      <td>18.0</td>\n",
       "      <td>3.6</td>\n",
       "      <td>3</td>\n",
       "    </tr>\n",
       "    <tr>\n",
       "      <th>18180</th>\n",
       "      <td>WEILOI</td>\n",
       "      <td>ACT</td>\n",
       "      <td>954.0</td>\n",
       "      <td>190.8</td>\n",
       "      <td>1</td>\n",
       "    </tr>\n",
       "  </tbody>\n",
       "</table>\n",
       "<p>2351 rows × 5 columns</p>\n",
       "</div>"
      ],
      "text/plain": [
       "      DIVISION bill_status  REALIZATION_PAYMENT    new my_col\n",
       "6142    WEILOI         ACT                  NaN    NaN      n\n",
       "19666   WEILOI         ACT                400.0   80.0      8\n",
       "3344    WEILOI         ACT                  NaN    NaN      n\n",
       "8247    WEILOI     BACKEND                  NaN    NaN      n\n",
       "5990    WEILOI         ACT                 11.0    2.2      2\n",
       "...        ...         ...                  ...    ...    ...\n",
       "20126   WEILOI         ACT                  NaN    NaN      n\n",
       "9630      TURA     BACKEND                  NaN    NaN      n\n",
       "15621     TURA     BACKEND                  NaN    NaN      n\n",
       "1313    WEILOI         ACT                 18.0    3.6      3\n",
       "18180   WEILOI         ACT                954.0  190.8      1\n",
       "\n",
       "[2351 rows x 5 columns]"
      ]
     },
     "execution_count": 129,
     "metadata": {},
     "output_type": "execute_result"
    }
   ],
   "source": [
    "# random data of 10 %\n",
    "\n",
    "df.sample(frac=0.10)"
   ]
  },
  {
   "cell_type": "markdown",
   "id": "c2f7ea5a",
   "metadata": {},
   "source": [
    "# Handle missing data"
   ]
  },
  {
   "cell_type": "code",
   "execution_count": null,
   "id": "3572a761",
   "metadata": {},
   "outputs": [],
   "source": [
    "> real world data will ofter be missing data for variety of reason\n",
    "> many machine learning models and statistical methods cant work with missing data in such case weneed to decide what to do with missing data\n",
    "> when reading missing values pandas will display them as NaN values\n",
    "\n",
    "\n",
    "> Option for missing data\n",
    "-- keep it\n",
    "-- remove it\n",
    "-- replace it\n",
    "    \n",
    "> Keeping the missing data\n",
    "pros --> Does not manipulate or change the true data \n",
    "Cons --> Many method or model do not support NaN values\n",
    "\n",
    "> Dropping or Removing the missing data\n",
    "pros --> easy/ can be based on rules\n",
    "Cons --> chance of lossing lot of data or usefull information can also be loss\n",
    "\n",
    "> Filling the missing data\n",
    "pros --> potential to save lot of data for use of training a model\n",
    "Cons --> Hardest to do and somewhat arbitrary --> potentail to lead false conclusion\n",
    "\n",
    "\n",
    "\n",
    "\n"
   ]
  },
  {
   "cell_type": "code",
   "execution_count": 131,
   "id": "dd969b97",
   "metadata": {},
   "outputs": [
    {
     "data": {
      "text/html": [
       "<div>\n",
       "<style scoped>\n",
       "    .dataframe tbody tr th:only-of-type {\n",
       "        vertical-align: middle;\n",
       "    }\n",
       "\n",
       "    .dataframe tbody tr th {\n",
       "        vertical-align: top;\n",
       "    }\n",
       "\n",
       "    .dataframe thead th {\n",
       "        text-align: right;\n",
       "    }\n",
       "</style>\n",
       "<table border=\"1\" class=\"dataframe\">\n",
       "  <thead>\n",
       "    <tr style=\"text-align: right;\">\n",
       "      <th></th>\n",
       "      <th>DIVISION</th>\n",
       "      <th>bill_status</th>\n",
       "      <th>REALIZATION_PAYMENT</th>\n",
       "      <th>new</th>\n",
       "      <th>my_col</th>\n",
       "    </tr>\n",
       "  </thead>\n",
       "  <tbody>\n",
       "    <tr>\n",
       "      <th>0</th>\n",
       "      <td>False</td>\n",
       "      <td>False</td>\n",
       "      <td>False</td>\n",
       "      <td>False</td>\n",
       "      <td>False</td>\n",
       "    </tr>\n",
       "    <tr>\n",
       "      <th>1</th>\n",
       "      <td>False</td>\n",
       "      <td>False</td>\n",
       "      <td>False</td>\n",
       "      <td>False</td>\n",
       "      <td>False</td>\n",
       "    </tr>\n",
       "    <tr>\n",
       "      <th>2</th>\n",
       "      <td>False</td>\n",
       "      <td>False</td>\n",
       "      <td>False</td>\n",
       "      <td>False</td>\n",
       "      <td>False</td>\n",
       "    </tr>\n",
       "    <tr>\n",
       "      <th>3</th>\n",
       "      <td>False</td>\n",
       "      <td>False</td>\n",
       "      <td>True</td>\n",
       "      <td>True</td>\n",
       "      <td>False</td>\n",
       "    </tr>\n",
       "    <tr>\n",
       "      <th>4</th>\n",
       "      <td>False</td>\n",
       "      <td>False</td>\n",
       "      <td>False</td>\n",
       "      <td>False</td>\n",
       "      <td>False</td>\n",
       "    </tr>\n",
       "    <tr>\n",
       "      <th>...</th>\n",
       "      <td>...</td>\n",
       "      <td>...</td>\n",
       "      <td>...</td>\n",
       "      <td>...</td>\n",
       "      <td>...</td>\n",
       "    </tr>\n",
       "    <tr>\n",
       "      <th>23504</th>\n",
       "      <td>False</td>\n",
       "      <td>False</td>\n",
       "      <td>True</td>\n",
       "      <td>True</td>\n",
       "      <td>False</td>\n",
       "    </tr>\n",
       "    <tr>\n",
       "      <th>23505</th>\n",
       "      <td>False</td>\n",
       "      <td>False</td>\n",
       "      <td>True</td>\n",
       "      <td>True</td>\n",
       "      <td>False</td>\n",
       "    </tr>\n",
       "    <tr>\n",
       "      <th>23506</th>\n",
       "      <td>False</td>\n",
       "      <td>False</td>\n",
       "      <td>True</td>\n",
       "      <td>True</td>\n",
       "      <td>False</td>\n",
       "    </tr>\n",
       "    <tr>\n",
       "      <th>23507</th>\n",
       "      <td>False</td>\n",
       "      <td>False</td>\n",
       "      <td>False</td>\n",
       "      <td>False</td>\n",
       "      <td>False</td>\n",
       "    </tr>\n",
       "    <tr>\n",
       "      <th>23508</th>\n",
       "      <td>False</td>\n",
       "      <td>False</td>\n",
       "      <td>True</td>\n",
       "      <td>True</td>\n",
       "      <td>False</td>\n",
       "    </tr>\n",
       "  </tbody>\n",
       "</table>\n",
       "<p>23509 rows × 5 columns</p>\n",
       "</div>"
      ],
      "text/plain": [
       "       DIVISION  bill_status  REALIZATION_PAYMENT    new  my_col\n",
       "0         False        False                False  False   False\n",
       "1         False        False                False  False   False\n",
       "2         False        False                False  False   False\n",
       "3         False        False                 True   True   False\n",
       "4         False        False                False  False   False\n",
       "...         ...          ...                  ...    ...     ...\n",
       "23504     False        False                 True   True   False\n",
       "23505     False        False                 True   True   False\n",
       "23506     False        False                 True   True   False\n",
       "23507     False        False                False  False   False\n",
       "23508     False        False                 True   True   False\n",
       "\n",
       "[23509 rows x 5 columns]"
      ]
     },
     "execution_count": 131,
     "metadata": {},
     "output_type": "execute_result"
    }
   ],
   "source": [
    "# cheak missing values   (isnotnull())\n",
    "\n",
    "df.isnull()"
   ]
  },
  {
   "cell_type": "code",
   "execution_count": 132,
   "id": "f12f892b",
   "metadata": {},
   "outputs": [
    {
     "data": {
      "text/html": [
       "<div>\n",
       "<style scoped>\n",
       "    .dataframe tbody tr th:only-of-type {\n",
       "        vertical-align: middle;\n",
       "    }\n",
       "\n",
       "    .dataframe tbody tr th {\n",
       "        vertical-align: top;\n",
       "    }\n",
       "\n",
       "    .dataframe thead th {\n",
       "        text-align: right;\n",
       "    }\n",
       "</style>\n",
       "<table border=\"1\" class=\"dataframe\">\n",
       "  <thead>\n",
       "    <tr style=\"text-align: right;\">\n",
       "      <th></th>\n",
       "      <th>DIVISION</th>\n",
       "      <th>bill_status</th>\n",
       "      <th>REALIZATION_PAYMENT</th>\n",
       "      <th>new</th>\n",
       "      <th>my_col</th>\n",
       "    </tr>\n",
       "  </thead>\n",
       "  <tbody>\n",
       "    <tr>\n",
       "      <th>0</th>\n",
       "      <td>False</td>\n",
       "      <td>False</td>\n",
       "      <td>False</td>\n",
       "      <td>False</td>\n",
       "      <td>False</td>\n",
       "    </tr>\n",
       "    <tr>\n",
       "      <th>1</th>\n",
       "      <td>False</td>\n",
       "      <td>False</td>\n",
       "      <td>False</td>\n",
       "      <td>False</td>\n",
       "      <td>False</td>\n",
       "    </tr>\n",
       "    <tr>\n",
       "      <th>2</th>\n",
       "      <td>False</td>\n",
       "      <td>False</td>\n",
       "      <td>False</td>\n",
       "      <td>False</td>\n",
       "      <td>False</td>\n",
       "    </tr>\n",
       "    <tr>\n",
       "      <th>3</th>\n",
       "      <td>False</td>\n",
       "      <td>False</td>\n",
       "      <td>True</td>\n",
       "      <td>True</td>\n",
       "      <td>False</td>\n",
       "    </tr>\n",
       "    <tr>\n",
       "      <th>4</th>\n",
       "      <td>False</td>\n",
       "      <td>False</td>\n",
       "      <td>False</td>\n",
       "      <td>False</td>\n",
       "      <td>False</td>\n",
       "    </tr>\n",
       "    <tr>\n",
       "      <th>...</th>\n",
       "      <td>...</td>\n",
       "      <td>...</td>\n",
       "      <td>...</td>\n",
       "      <td>...</td>\n",
       "      <td>...</td>\n",
       "    </tr>\n",
       "    <tr>\n",
       "      <th>23504</th>\n",
       "      <td>False</td>\n",
       "      <td>False</td>\n",
       "      <td>True</td>\n",
       "      <td>True</td>\n",
       "      <td>False</td>\n",
       "    </tr>\n",
       "    <tr>\n",
       "      <th>23505</th>\n",
       "      <td>False</td>\n",
       "      <td>False</td>\n",
       "      <td>True</td>\n",
       "      <td>True</td>\n",
       "      <td>False</td>\n",
       "    </tr>\n",
       "    <tr>\n",
       "      <th>23506</th>\n",
       "      <td>False</td>\n",
       "      <td>False</td>\n",
       "      <td>True</td>\n",
       "      <td>True</td>\n",
       "      <td>False</td>\n",
       "    </tr>\n",
       "    <tr>\n",
       "      <th>23507</th>\n",
       "      <td>False</td>\n",
       "      <td>False</td>\n",
       "      <td>False</td>\n",
       "      <td>False</td>\n",
       "      <td>False</td>\n",
       "    </tr>\n",
       "    <tr>\n",
       "      <th>23508</th>\n",
       "      <td>False</td>\n",
       "      <td>False</td>\n",
       "      <td>True</td>\n",
       "      <td>True</td>\n",
       "      <td>False</td>\n",
       "    </tr>\n",
       "  </tbody>\n",
       "</table>\n",
       "<p>23509 rows × 5 columns</p>\n",
       "</div>"
      ],
      "text/plain": [
       "       DIVISION  bill_status  REALIZATION_PAYMENT    new  my_col\n",
       "0         False        False                False  False   False\n",
       "1         False        False                False  False   False\n",
       "2         False        False                False  False   False\n",
       "3         False        False                 True   True   False\n",
       "4         False        False                False  False   False\n",
       "...         ...          ...                  ...    ...     ...\n",
       "23504     False        False                 True   True   False\n",
       "23505     False        False                 True   True   False\n",
       "23506     False        False                 True   True   False\n",
       "23507     False        False                False  False   False\n",
       "23508     False        False                 True   True   False\n",
       "\n",
       "[23509 rows x 5 columns]"
      ]
     },
     "execution_count": 132,
     "metadata": {},
     "output_type": "execute_result"
    }
   ],
   "source": [
    "df.isna()"
   ]
  },
  {
   "cell_type": "code",
   "execution_count": 134,
   "id": "c9c3c847",
   "metadata": {},
   "outputs": [
    {
     "data": {
      "text/html": [
       "<div>\n",
       "<style scoped>\n",
       "    .dataframe tbody tr th:only-of-type {\n",
       "        vertical-align: middle;\n",
       "    }\n",
       "\n",
       "    .dataframe tbody tr th {\n",
       "        vertical-align: top;\n",
       "    }\n",
       "\n",
       "    .dataframe thead th {\n",
       "        text-align: right;\n",
       "    }\n",
       "</style>\n",
       "<table border=\"1\" class=\"dataframe\">\n",
       "  <thead>\n",
       "    <tr style=\"text-align: right;\">\n",
       "      <th></th>\n",
       "      <th>DIVISION</th>\n",
       "      <th>bill_status</th>\n",
       "      <th>REALIZATION_PAYMENT</th>\n",
       "      <th>new</th>\n",
       "      <th>my_col</th>\n",
       "    </tr>\n",
       "  </thead>\n",
       "  <tbody>\n",
       "    <tr>\n",
       "      <th>0</th>\n",
       "      <td>WEILOI</td>\n",
       "      <td>ACT</td>\n",
       "      <td>490.0</td>\n",
       "      <td>98.0</td>\n",
       "      <td>9</td>\n",
       "    </tr>\n",
       "    <tr>\n",
       "      <th>1</th>\n",
       "      <td>WEILOI</td>\n",
       "      <td>ACT</td>\n",
       "      <td>800.0</td>\n",
       "      <td>160.0</td>\n",
       "      <td>1</td>\n",
       "    </tr>\n",
       "    <tr>\n",
       "      <th>2</th>\n",
       "      <td>WEILOI</td>\n",
       "      <td>ACT</td>\n",
       "      <td>10.0</td>\n",
       "      <td>2.0</td>\n",
       "      <td>2</td>\n",
       "    </tr>\n",
       "    <tr>\n",
       "      <th>4</th>\n",
       "      <td>WEILOI</td>\n",
       "      <td>ACT</td>\n",
       "      <td>700.0</td>\n",
       "      <td>140.0</td>\n",
       "      <td>1</td>\n",
       "    </tr>\n",
       "    <tr>\n",
       "      <th>7</th>\n",
       "      <td>WEILOI</td>\n",
       "      <td>ACT</td>\n",
       "      <td>70.0</td>\n",
       "      <td>14.0</td>\n",
       "      <td>1</td>\n",
       "    </tr>\n",
       "    <tr>\n",
       "      <th>...</th>\n",
       "      <td>...</td>\n",
       "      <td>...</td>\n",
       "      <td>...</td>\n",
       "      <td>...</td>\n",
       "      <td>...</td>\n",
       "    </tr>\n",
       "    <tr>\n",
       "      <th>23497</th>\n",
       "      <td>WEILOI</td>\n",
       "      <td>ACT</td>\n",
       "      <td>2820.0</td>\n",
       "      <td>564.0</td>\n",
       "      <td>5</td>\n",
       "    </tr>\n",
       "    <tr>\n",
       "      <th>23498</th>\n",
       "      <td>TURA</td>\n",
       "      <td>ACT</td>\n",
       "      <td>13105.0</td>\n",
       "      <td>2621.0</td>\n",
       "      <td>2</td>\n",
       "    </tr>\n",
       "    <tr>\n",
       "      <th>23499</th>\n",
       "      <td>TURA</td>\n",
       "      <td>ACT</td>\n",
       "      <td>15095.0</td>\n",
       "      <td>3019.0</td>\n",
       "      <td>3</td>\n",
       "    </tr>\n",
       "    <tr>\n",
       "      <th>23503</th>\n",
       "      <td>TURA</td>\n",
       "      <td>ACT</td>\n",
       "      <td>2500.0</td>\n",
       "      <td>500.0</td>\n",
       "      <td>5</td>\n",
       "    </tr>\n",
       "    <tr>\n",
       "      <th>23507</th>\n",
       "      <td>TURA</td>\n",
       "      <td>ACT</td>\n",
       "      <td>17537.0</td>\n",
       "      <td>3507.4</td>\n",
       "      <td>3</td>\n",
       "    </tr>\n",
       "  </tbody>\n",
       "</table>\n",
       "<p>11033 rows × 5 columns</p>\n",
       "</div>"
      ],
      "text/plain": [
       "      DIVISION bill_status  REALIZATION_PAYMENT     new my_col\n",
       "0       WEILOI         ACT                490.0    98.0      9\n",
       "1       WEILOI         ACT                800.0   160.0      1\n",
       "2       WEILOI         ACT                 10.0     2.0      2\n",
       "4       WEILOI         ACT                700.0   140.0      1\n",
       "7       WEILOI         ACT                 70.0    14.0      1\n",
       "...        ...         ...                  ...     ...    ...\n",
       "23497   WEILOI         ACT               2820.0   564.0      5\n",
       "23498     TURA         ACT              13105.0  2621.0      2\n",
       "23499     TURA         ACT              15095.0  3019.0      3\n",
       "23503     TURA         ACT               2500.0   500.0      5\n",
       "23507     TURA         ACT              17537.0  3507.4      3\n",
       "\n",
       "[11033 rows x 5 columns]"
      ]
     },
     "execution_count": 134,
     "metadata": {},
     "output_type": "execute_result"
    }
   ],
   "source": [
    "# rows with all values present (not present - isnull())\n",
    "\n",
    "df[df['REALIZATION_PAYMENT'].notnull()]"
   ]
  },
  {
   "cell_type": "code",
   "execution_count": 135,
   "id": "c2d27f4d",
   "metadata": {},
   "outputs": [
    {
     "data": {
      "text/html": [
       "<div>\n",
       "<style scoped>\n",
       "    .dataframe tbody tr th:only-of-type {\n",
       "        vertical-align: middle;\n",
       "    }\n",
       "\n",
       "    .dataframe tbody tr th {\n",
       "        vertical-align: top;\n",
       "    }\n",
       "\n",
       "    .dataframe thead th {\n",
       "        text-align: right;\n",
       "    }\n",
       "</style>\n",
       "<table border=\"1\" class=\"dataframe\">\n",
       "  <thead>\n",
       "    <tr style=\"text-align: right;\">\n",
       "      <th></th>\n",
       "      <th>DIVISION</th>\n",
       "      <th>bill_status</th>\n",
       "      <th>REALIZATION_PAYMENT</th>\n",
       "      <th>new</th>\n",
       "      <th>my_col</th>\n",
       "    </tr>\n",
       "  </thead>\n",
       "  <tbody>\n",
       "    <tr>\n",
       "      <th>0</th>\n",
       "      <td>WEILOI</td>\n",
       "      <td>ACT</td>\n",
       "      <td>490.0</td>\n",
       "      <td>98.0</td>\n",
       "      <td>9</td>\n",
       "    </tr>\n",
       "    <tr>\n",
       "      <th>1</th>\n",
       "      <td>WEILOI</td>\n",
       "      <td>ACT</td>\n",
       "      <td>800.0</td>\n",
       "      <td>160.0</td>\n",
       "      <td>1</td>\n",
       "    </tr>\n",
       "    <tr>\n",
       "      <th>2</th>\n",
       "      <td>WEILOI</td>\n",
       "      <td>ACT</td>\n",
       "      <td>10.0</td>\n",
       "      <td>2.0</td>\n",
       "      <td>2</td>\n",
       "    </tr>\n",
       "    <tr>\n",
       "      <th>4</th>\n",
       "      <td>WEILOI</td>\n",
       "      <td>ACT</td>\n",
       "      <td>700.0</td>\n",
       "      <td>140.0</td>\n",
       "      <td>1</td>\n",
       "    </tr>\n",
       "    <tr>\n",
       "      <th>7</th>\n",
       "      <td>WEILOI</td>\n",
       "      <td>ACT</td>\n",
       "      <td>70.0</td>\n",
       "      <td>14.0</td>\n",
       "      <td>1</td>\n",
       "    </tr>\n",
       "    <tr>\n",
       "      <th>...</th>\n",
       "      <td>...</td>\n",
       "      <td>...</td>\n",
       "      <td>...</td>\n",
       "      <td>...</td>\n",
       "      <td>...</td>\n",
       "    </tr>\n",
       "    <tr>\n",
       "      <th>23497</th>\n",
       "      <td>WEILOI</td>\n",
       "      <td>ACT</td>\n",
       "      <td>2820.0</td>\n",
       "      <td>564.0</td>\n",
       "      <td>5</td>\n",
       "    </tr>\n",
       "    <tr>\n",
       "      <th>23498</th>\n",
       "      <td>TURA</td>\n",
       "      <td>ACT</td>\n",
       "      <td>13105.0</td>\n",
       "      <td>2621.0</td>\n",
       "      <td>2</td>\n",
       "    </tr>\n",
       "    <tr>\n",
       "      <th>23499</th>\n",
       "      <td>TURA</td>\n",
       "      <td>ACT</td>\n",
       "      <td>15095.0</td>\n",
       "      <td>3019.0</td>\n",
       "      <td>3</td>\n",
       "    </tr>\n",
       "    <tr>\n",
       "      <th>23503</th>\n",
       "      <td>TURA</td>\n",
       "      <td>ACT</td>\n",
       "      <td>2500.0</td>\n",
       "      <td>500.0</td>\n",
       "      <td>5</td>\n",
       "    </tr>\n",
       "    <tr>\n",
       "      <th>23507</th>\n",
       "      <td>TURA</td>\n",
       "      <td>ACT</td>\n",
       "      <td>17537.0</td>\n",
       "      <td>3507.4</td>\n",
       "      <td>3</td>\n",
       "    </tr>\n",
       "  </tbody>\n",
       "</table>\n",
       "<p>11033 rows × 5 columns</p>\n",
       "</div>"
      ],
      "text/plain": [
       "      DIVISION bill_status  REALIZATION_PAYMENT     new my_col\n",
       "0       WEILOI         ACT                490.0    98.0      9\n",
       "1       WEILOI         ACT                800.0   160.0      1\n",
       "2       WEILOI         ACT                 10.0     2.0      2\n",
       "4       WEILOI         ACT                700.0   140.0      1\n",
       "7       WEILOI         ACT                 70.0    14.0      1\n",
       "...        ...         ...                  ...     ...    ...\n",
       "23497   WEILOI         ACT               2820.0   564.0      5\n",
       "23498     TURA         ACT              13105.0  2621.0      2\n",
       "23499     TURA         ACT              15095.0  3019.0      3\n",
       "23503     TURA         ACT               2500.0   500.0      5\n",
       "23507     TURA         ACT              17537.0  3507.4      3\n",
       "\n",
       "[11033 rows x 5 columns]"
      ]
     },
     "execution_count": 135,
     "metadata": {},
     "output_type": "execute_result"
    }
   ],
   "source": [
    "# drop missing values \n",
    "\n",
    "df.dropna()"
   ]
  },
  {
   "cell_type": "raw",
   "id": "5b71173d",
   "metadata": {},
   "source": [
    "# drop na types \n",
    "\n",
    "df.dropna()\n",
    "df.dropna(how='any')\n",
    "df.dropna(how='all')\n",
    "df.dropna(subset=['Divion','bill_basis'])"
   ]
  },
  {
   "cell_type": "code",
   "execution_count": 136,
   "id": "b95621ea",
   "metadata": {},
   "outputs": [
    {
     "data": {
      "text/plain": [
       "0          98.000000\n",
       "1         160.000000\n",
       "2           2.000000\n",
       "3         127.213904\n",
       "4         140.000000\n",
       "            ...     \n",
       "23504     127.213904\n",
       "23505     127.213904\n",
       "23506     127.213904\n",
       "23507    3507.400000\n",
       "23508     127.213904\n",
       "Name: new, Length: 23509, dtype: float64"
      ]
     },
     "execution_count": 136,
     "metadata": {},
     "output_type": "execute_result"
    }
   ],
   "source": [
    "# fill missing values \n",
    "\n",
    "#df.fillna('a')\n",
    "\n",
    "df['new'].fillna(df['new'].mean())"
   ]
  },
  {
   "cell_type": "code",
   "execution_count": 138,
   "id": "47ebde18",
   "metadata": {},
   "outputs": [
    {
     "name": "stderr",
     "output_type": "stream",
     "text": [
      "C:\\Users\\mangeshk\\AppData\\Local\\Temp\\ipykernel_29060\\2000866270.py:3: FutureWarning: The default value of numeric_only in DataFrameGroupBy.mean is deprecated. In a future version, numeric_only will default to False. Either specify numeric_only or select only columns which should be valid for the function.\n",
      "  df.groupby(df['DIVISION']).mean()\n"
     ]
    },
    {
     "data": {
      "text/html": [
       "<div>\n",
       "<style scoped>\n",
       "    .dataframe tbody tr th:only-of-type {\n",
       "        vertical-align: middle;\n",
       "    }\n",
       "\n",
       "    .dataframe tbody tr th {\n",
       "        vertical-align: top;\n",
       "    }\n",
       "\n",
       "    .dataframe thead th {\n",
       "        text-align: right;\n",
       "    }\n",
       "</style>\n",
       "<table border=\"1\" class=\"dataframe\">\n",
       "  <thead>\n",
       "    <tr style=\"text-align: right;\">\n",
       "      <th></th>\n",
       "      <th>REALIZATION_PAYMENT</th>\n",
       "      <th>new</th>\n",
       "    </tr>\n",
       "    <tr>\n",
       "      <th>DIVISION</th>\n",
       "      <th></th>\n",
       "      <th></th>\n",
       "    </tr>\n",
       "  </thead>\n",
       "  <tbody>\n",
       "    <tr>\n",
       "      <th>TURA</th>\n",
       "      <td>1099.713533</td>\n",
       "      <td>219.942707</td>\n",
       "    </tr>\n",
       "    <tr>\n",
       "      <th>WEILOI</th>\n",
       "      <td>517.017780</td>\n",
       "      <td>103.403556</td>\n",
       "    </tr>\n",
       "    <tr>\n",
       "      <th>WILLIAM NAGAR</th>\n",
       "      <td>1094.619565</td>\n",
       "      <td>218.923913</td>\n",
       "    </tr>\n",
       "  </tbody>\n",
       "</table>\n",
       "</div>"
      ],
      "text/plain": [
       "               REALIZATION_PAYMENT         new\n",
       "DIVISION                                      \n",
       "TURA                   1099.713533  219.942707\n",
       "WEILOI                  517.017780  103.403556\n",
       "WILLIAM NAGAR          1094.619565  218.923913"
      ]
     },
     "execution_count": 138,
     "metadata": {},
     "output_type": "execute_result"
    }
   ],
   "source": [
    "# groupby function\n",
    "\n",
    "df.groupby(df['DIVISION']).mean()"
   ]
  },
  {
   "cell_type": "code",
   "execution_count": 190,
   "id": "5cdfa1e2",
   "metadata": {},
   "outputs": [
    {
     "data": {
      "text/plain": [
       "DIVISION\n",
       "TURA             219.942707\n",
       "WILLIAM NAGAR    218.923913\n",
       "WEILOI           103.403556\n",
       "Name: new, dtype: float64"
      ]
     },
     "execution_count": 190,
     "metadata": {},
     "output_type": "execute_result"
    }
   ],
   "source": [
    "df.groupby('DIVISION')['new'].mean().sort_values(ascending=False)\n",
    "\n",
    "# count.min,max,mean,len,size"
   ]
  },
  {
   "cell_type": "code",
   "execution_count": 140,
   "id": "bd29c370",
   "metadata": {},
   "outputs": [
    {
     "name": "stderr",
     "output_type": "stream",
     "text": [
      "C:\\Users\\mangeshk\\AppData\\Local\\Temp\\ipykernel_29060\\1120617971.py:1: FutureWarning: The default value of numeric_only in DataFrameGroupBy.mean is deprecated. In a future version, numeric_only will default to False. Either specify numeric_only or select only columns which should be valid for the function.\n",
      "  df.groupby(['DIVISION','bill_status']).mean()\n"
     ]
    },
    {
     "data": {
      "text/html": [
       "<div>\n",
       "<style scoped>\n",
       "    .dataframe tbody tr th:only-of-type {\n",
       "        vertical-align: middle;\n",
       "    }\n",
       "\n",
       "    .dataframe tbody tr th {\n",
       "        vertical-align: top;\n",
       "    }\n",
       "\n",
       "    .dataframe thead th {\n",
       "        text-align: right;\n",
       "    }\n",
       "</style>\n",
       "<table border=\"1\" class=\"dataframe\">\n",
       "  <thead>\n",
       "    <tr style=\"text-align: right;\">\n",
       "      <th></th>\n",
       "      <th></th>\n",
       "      <th>REALIZATION_PAYMENT</th>\n",
       "      <th>new</th>\n",
       "    </tr>\n",
       "    <tr>\n",
       "      <th>DIVISION</th>\n",
       "      <th>bill_status</th>\n",
       "      <th></th>\n",
       "      <th></th>\n",
       "    </tr>\n",
       "  </thead>\n",
       "  <tbody>\n",
       "    <tr>\n",
       "      <th rowspan=\"2\" valign=\"top\">TURA</th>\n",
       "      <th>ACT</th>\n",
       "      <td>1105.089243</td>\n",
       "      <td>221.017849</td>\n",
       "    </tr>\n",
       "    <tr>\n",
       "      <th>BACKEND</th>\n",
       "      <td>493.333333</td>\n",
       "      <td>98.666667</td>\n",
       "    </tr>\n",
       "    <tr>\n",
       "      <th rowspan=\"2\" valign=\"top\">WEILOI</th>\n",
       "      <th>ACT</th>\n",
       "      <td>517.022704</td>\n",
       "      <td>103.404541</td>\n",
       "    </tr>\n",
       "    <tr>\n",
       "      <th>BACKEND</th>\n",
       "      <td>512.222222</td>\n",
       "      <td>102.444444</td>\n",
       "    </tr>\n",
       "    <tr>\n",
       "      <th rowspan=\"2\" valign=\"top\">WILLIAM NAGAR</th>\n",
       "      <th>ACT</th>\n",
       "      <td>1089.688645</td>\n",
       "      <td>217.937729</td>\n",
       "    </tr>\n",
       "    <tr>\n",
       "      <th>BACKEND</th>\n",
       "      <td>1543.333333</td>\n",
       "      <td>308.666667</td>\n",
       "    </tr>\n",
       "  </tbody>\n",
       "</table>\n",
       "</div>"
      ],
      "text/plain": [
       "                           REALIZATION_PAYMENT         new\n",
       "DIVISION      bill_status                                 \n",
       "TURA          ACT                  1105.089243  221.017849\n",
       "              BACKEND               493.333333   98.666667\n",
       "WEILOI        ACT                   517.022704  103.404541\n",
       "              BACKEND               512.222222  102.444444\n",
       "WILLIAM NAGAR ACT                  1089.688645  217.937729\n",
       "              BACKEND              1543.333333  308.666667"
      ]
     },
     "execution_count": 140,
     "metadata": {},
     "output_type": "execute_result"
    }
   ],
   "source": [
    "df.groupby(['DIVISION','bill_status']).mean()"
   ]
  },
  {
   "cell_type": "code",
   "execution_count": 194,
   "id": "012d892e",
   "metadata": {},
   "outputs": [
    {
     "data": {
      "text/plain": [
       "min     6.000000e-01\n",
       "max     4.277440e+04\n",
       "mean    1.272139e+02\n",
       "sum     1.403551e+06\n",
       "Name: new, dtype: float64"
      ]
     },
     "execution_count": 194,
     "metadata": {},
     "output_type": "execute_result"
    }
   ],
   "source": [
    "df['new'].agg(['min','max','mean','sum'])"
   ]
  },
  {
   "cell_type": "code",
   "execution_count": 195,
   "id": "b9fe16d1",
   "metadata": {},
   "outputs": [
    {
     "data": {
      "text/plain": [
       "0      DIVISION               WEILOI\n",
       "       bill_status               ACT\n",
       "       REALIZATION_PAYMENT     490.0\n",
       "       new                      98.0\n",
       "       my_col                      9\n",
       "                               ...  \n",
       "23507  new                    3507.4\n",
       "       my_col                      3\n",
       "23508  DIVISION               WEILOI\n",
       "       bill_status               ACT\n",
       "       my_col                      n\n",
       "Length: 92593, dtype: object"
      ]
     },
     "execution_count": 195,
     "metadata": {},
     "output_type": "execute_result"
    }
   ],
   "source": [
    "# dataframe stacking\n",
    "\n",
    "df.stack()"
   ]
  },
  {
   "cell_type": "code",
   "execution_count": 196,
   "id": "fd5319cd",
   "metadata": {},
   "outputs": [
    {
     "data": {
      "text/plain": [
       "DIVISION  0        WEILOI\n",
       "          1        WEILOI\n",
       "          2        WEILOI\n",
       "          3        WEILOI\n",
       "          4        WEILOI\n",
       "                    ...  \n",
       "my_col    23504         n\n",
       "          23505         n\n",
       "          23506         n\n",
       "          23507         3\n",
       "          23508         n\n",
       "Length: 117545, dtype: object"
      ]
     },
     "execution_count": 196,
     "metadata": {},
     "output_type": "execute_result"
    }
   ],
   "source": [
    "df.unstack()"
   ]
  },
  {
   "cell_type": "code",
   "execution_count": null,
   "id": "5eca7ac7",
   "metadata": {},
   "outputs": [],
   "source": [
    "# converting datatype into datetime\n",
    "\n",
    "#df['Date'] = pd.to_datetime(df['Date'])\n",
    "\n",
    "\n",
    "# pivot table\n",
    "#df.pivot_table(index='month',columns='Income/Expense',\n",
    "#values='INR',aggfunc='sum',fill_value=0).plot()"
   ]
  },
  {
   "cell_type": "code",
   "execution_count": 142,
   "id": "ac9660a8",
   "metadata": {},
   "outputs": [
    {
     "data": {
      "text/plain": [
       "(   a     m\n",
       " 0  1  2333\n",
       " 1  2  2222,\n",
       "     b  x\n",
       " 0  ff  w\n",
       " 1  ee  a)"
      ]
     },
     "execution_count": 142,
     "metadata": {},
     "output_type": "execute_result"
    }
   ],
   "source": [
    "# adding dataframes\n",
    "\n",
    "df11=pd.DataFrame({'a':['1','2'],'m':['2333','2222']})\n",
    "df22=pd.DataFrame({'b':['ff','ee'],'x':['w','a']})\n",
    "df11,df22"
   ]
  },
  {
   "cell_type": "code",
   "execution_count": 143,
   "id": "02960aa3",
   "metadata": {},
   "outputs": [
    {
     "data": {
      "text/html": [
       "<div>\n",
       "<style scoped>\n",
       "    .dataframe tbody tr th:only-of-type {\n",
       "        vertical-align: middle;\n",
       "    }\n",
       "\n",
       "    .dataframe tbody tr th {\n",
       "        vertical-align: top;\n",
       "    }\n",
       "\n",
       "    .dataframe thead th {\n",
       "        text-align: right;\n",
       "    }\n",
       "</style>\n",
       "<table border=\"1\" class=\"dataframe\">\n",
       "  <thead>\n",
       "    <tr style=\"text-align: right;\">\n",
       "      <th></th>\n",
       "      <th>a</th>\n",
       "      <th>m</th>\n",
       "      <th>b</th>\n",
       "      <th>x</th>\n",
       "    </tr>\n",
       "  </thead>\n",
       "  <tbody>\n",
       "    <tr>\n",
       "      <th>0</th>\n",
       "      <td>1</td>\n",
       "      <td>2333</td>\n",
       "      <td>ff</td>\n",
       "      <td>w</td>\n",
       "    </tr>\n",
       "    <tr>\n",
       "      <th>1</th>\n",
       "      <td>2</td>\n",
       "      <td>2222</td>\n",
       "      <td>ee</td>\n",
       "      <td>a</td>\n",
       "    </tr>\n",
       "  </tbody>\n",
       "</table>\n",
       "</div>"
      ],
      "text/plain": [
       "   a     m   b  x\n",
       "0  1  2333  ff  w\n",
       "1  2  2222  ee  a"
      ]
     },
     "execution_count": 143,
     "metadata": {},
     "output_type": "execute_result"
    }
   ],
   "source": [
    "# concat along column\n",
    "pd.concat([df11,df22],axis=1)"
   ]
  },
  {
   "cell_type": "code",
   "execution_count": 144,
   "id": "a2b90c55",
   "metadata": {},
   "outputs": [
    {
     "data": {
      "text/html": [
       "<div>\n",
       "<style scoped>\n",
       "    .dataframe tbody tr th:only-of-type {\n",
       "        vertical-align: middle;\n",
       "    }\n",
       "\n",
       "    .dataframe tbody tr th {\n",
       "        vertical-align: top;\n",
       "    }\n",
       "\n",
       "    .dataframe thead th {\n",
       "        text-align: right;\n",
       "    }\n",
       "</style>\n",
       "<table border=\"1\" class=\"dataframe\">\n",
       "  <thead>\n",
       "    <tr style=\"text-align: right;\">\n",
       "      <th></th>\n",
       "      <th>a</th>\n",
       "      <th>m</th>\n",
       "      <th>b</th>\n",
       "      <th>x</th>\n",
       "    </tr>\n",
       "  </thead>\n",
       "  <tbody>\n",
       "    <tr>\n",
       "      <th>0</th>\n",
       "      <td>1</td>\n",
       "      <td>2333</td>\n",
       "      <td>NaN</td>\n",
       "      <td>NaN</td>\n",
       "    </tr>\n",
       "    <tr>\n",
       "      <th>1</th>\n",
       "      <td>2</td>\n",
       "      <td>2222</td>\n",
       "      <td>NaN</td>\n",
       "      <td>NaN</td>\n",
       "    </tr>\n",
       "    <tr>\n",
       "      <th>0</th>\n",
       "      <td>NaN</td>\n",
       "      <td>NaN</td>\n",
       "      <td>ff</td>\n",
       "      <td>w</td>\n",
       "    </tr>\n",
       "    <tr>\n",
       "      <th>1</th>\n",
       "      <td>NaN</td>\n",
       "      <td>NaN</td>\n",
       "      <td>ee</td>\n",
       "      <td>a</td>\n",
       "    </tr>\n",
       "  </tbody>\n",
       "</table>\n",
       "</div>"
      ],
      "text/plain": [
       "     a     m    b    x\n",
       "0    1  2333  NaN  NaN\n",
       "1    2  2222  NaN  NaN\n",
       "0  NaN   NaN   ff    w\n",
       "1  NaN   NaN   ee    a"
      ]
     },
     "execution_count": 144,
     "metadata": {},
     "output_type": "execute_result"
    }
   ],
   "source": [
    "# concat along rows\n",
    "pd.concat([df11,df22],axis=0)"
   ]
  },
  {
   "cell_type": "code",
   "execution_count": 149,
   "id": "d4cca148",
   "metadata": {},
   "outputs": [
    {
     "data": {
      "text/html": [
       "<div>\n",
       "<style scoped>\n",
       "    .dataframe tbody tr th:only-of-type {\n",
       "        vertical-align: middle;\n",
       "    }\n",
       "\n",
       "    .dataframe tbody tr th {\n",
       "        vertical-align: top;\n",
       "    }\n",
       "\n",
       "    .dataframe thead th {\n",
       "        text-align: right;\n",
       "    }\n",
       "</style>\n",
       "<table border=\"1\" class=\"dataframe\">\n",
       "  <thead>\n",
       "    <tr style=\"text-align: right;\">\n",
       "      <th></th>\n",
       "      <th>a</th>\n",
       "      <th>m</th>\n",
       "    </tr>\n",
       "  </thead>\n",
       "  <tbody>\n",
       "    <tr>\n",
       "      <th>0</th>\n",
       "      <td>1</td>\n",
       "      <td>2333</td>\n",
       "    </tr>\n",
       "    <tr>\n",
       "      <th>1</th>\n",
       "      <td>2</td>\n",
       "      <td>2222</td>\n",
       "    </tr>\n",
       "    <tr>\n",
       "      <th>0</th>\n",
       "      <td>ff</td>\n",
       "      <td>w</td>\n",
       "    </tr>\n",
       "    <tr>\n",
       "      <th>1</th>\n",
       "      <td>ee</td>\n",
       "      <td>a</td>\n",
       "    </tr>\n",
       "  </tbody>\n",
       "</table>\n",
       "</div>"
      ],
      "text/plain": [
       "    a     m\n",
       "0   1  2333\n",
       "1   2  2222\n",
       "0  ff     w\n",
       "1  ee     a"
      ]
     },
     "execution_count": 149,
     "metadata": {},
     "output_type": "execute_result"
    }
   ],
   "source": [
    "# better way of adding \n",
    "\n",
    "df22.columns=df11.columns\n",
    "pd.concat([df11,df22],axis=0)"
   ]
  },
  {
   "cell_type": "code",
   "execution_count": null,
   "id": "92ad1b23",
   "metadata": {},
   "outputs": [],
   "source": [
    "# merging the dataframe similar to joins in sql\n",
    "# --inner outer left right"
   ]
  },
  {
   "cell_type": "code",
   "execution_count": 153,
   "id": "6f15f1b0",
   "metadata": {},
   "outputs": [
    {
     "data": {
      "text/html": [
       "<div>\n",
       "<style scoped>\n",
       "    .dataframe tbody tr th:only-of-type {\n",
       "        vertical-align: middle;\n",
       "    }\n",
       "\n",
       "    .dataframe tbody tr th {\n",
       "        vertical-align: top;\n",
       "    }\n",
       "\n",
       "    .dataframe thead th {\n",
       "        text-align: right;\n",
       "    }\n",
       "</style>\n",
       "<table border=\"1\" class=\"dataframe\">\n",
       "  <thead>\n",
       "    <tr style=\"text-align: right;\">\n",
       "      <th></th>\n",
       "      <th>a</th>\n",
       "      <th>m_x</th>\n",
       "      <th>m_y</th>\n",
       "    </tr>\n",
       "  </thead>\n",
       "  <tbody>\n",
       "  </tbody>\n",
       "</table>\n",
       "</div>"
      ],
      "text/plain": [
       "Empty DataFrame\n",
       "Columns: [a, m_x, m_y]\n",
       "Index: []"
      ]
     },
     "execution_count": 153,
     "metadata": {},
     "output_type": "execute_result"
    }
   ],
   "source": [
    "#inner -outer -left - right\n",
    "\n",
    "pd.merge(df11,df22,how='inner',on='a')"
   ]
  },
  {
   "cell_type": "markdown",
   "id": "70385f42",
   "metadata": {},
   "source": [
    "# Text methods"
   ]
  },
  {
   "cell_type": "code",
   "execution_count": 155,
   "id": "a5b92f27",
   "metadata": {},
   "outputs": [
    {
     "data": {
      "text/plain": [
       "['kendre5119', 'gmail.com']"
      ]
     },
     "execution_count": 155,
     "metadata": {},
     "output_type": "execute_result"
    }
   ],
   "source": [
    "# split \n",
    "email='kendre5119@gmail.com'\n",
    "email.split('@')"
   ]
  },
  {
   "cell_type": "code",
   "execution_count": 157,
   "id": "2d016073",
   "metadata": {},
   "outputs": [
    {
     "data": {
      "text/plain": [
       "'Kendre5119@gmail.com'"
      ]
     },
     "execution_count": 157,
     "metadata": {},
     "output_type": "execute_result"
    }
   ],
   "source": [
    "email.capitalize()"
   ]
  },
  {
   "cell_type": "code",
   "execution_count": 159,
   "id": "75155d73",
   "metadata": {},
   "outputs": [
    {
     "data": {
      "text/plain": [
       "False"
      ]
     },
     "execution_count": 159,
     "metadata": {},
     "output_type": "execute_result"
    }
   ],
   "source": [
    "email.isdigit()"
   ]
  },
  {
   "cell_type": "code",
   "execution_count": 160,
   "id": "7924ef41",
   "metadata": {},
   "outputs": [
    {
     "data": {
      "text/plain": [
       "'KENDRE5119@GMAIL.COM'"
      ]
     },
     "execution_count": 160,
     "metadata": {},
     "output_type": "execute_result"
    }
   ],
   "source": [
    "email.upper()"
   ]
  },
  {
   "cell_type": "code",
   "execution_count": 197,
   "id": "4f39b440",
   "metadata": {},
   "outputs": [
    {
     "data": {
      "text/plain": [
       "0     True\n",
       "1    False\n",
       "2     None\n",
       "3    False\n",
       "dtype: object"
      ]
     },
     "execution_count": 197,
     "metadata": {},
     "output_type": "execute_result"
    }
   ],
   "source": [
    "s = pd.Series(['cat','mat',None,'rat'])\n",
    "# string accessor\n",
    "s.str.startswith('c')"
   ]
  },
  {
   "cell_type": "code",
   "execution_count": 200,
   "id": "0bfcd37e",
   "metadata": {},
   "outputs": [
    {
     "data": {
      "text/plain": [
       "0     Cat\n",
       "1     Mat\n",
       "2    None\n",
       "3     Rat\n",
       "dtype: object"
      ]
     },
     "execution_count": 200,
     "metadata": {},
     "output_type": "execute_result"
    }
   ],
   "source": [
    "s.str.upper()\n",
    "s.str.lower()\n",
    "s.str.strip()\n",
    "s.str.capitalize()\n",
    "s.str.title()\n",
    "\n",
    "#df['lastname'] = df['Name'].str.split(',').str.get(0)\n",
    "\n",
    "# replace\n",
    "#df['title'] = df['title'].str.replace('Ms.','Miss.')\n",
    "\n",
    "# startswith/endswith\n",
    "#df[df['firstname'].str.endswith('A')]\n",
    "\n",
    "# isdigit/isalpha...\n",
    "#df[df['firstname'].str.isdigit()]\n",
    "\n",
    "# search john -> both case\n",
    "#df[df['firstname'].str.contains('john',case=False)]\n",
    "\n",
    "# find lastnames with start and end char vowel\n",
    "#df[df['lastname'].str.contains('^[^aeiouAEIOU].+[^aeiouAEIOU]$')]\n"
   ]
  },
  {
   "cell_type": "markdown",
   "id": "bf251f6e",
   "metadata": {},
   "source": [
    "# Pandas series"
   ]
  },
  {
   "cell_type": "code",
   "execution_count": 163,
   "id": "328003ae",
   "metadata": {},
   "outputs": [
    {
     "data": {
      "text/plain": [
       "0       India\n",
       "1    Pakistan\n",
       "2         USA\n",
       "3       Nepal\n",
       "4    Srilanka\n",
       "dtype: object"
      ]
     },
     "execution_count": 163,
     "metadata": {},
     "output_type": "execute_result"
    }
   ],
   "source": [
    "# string\n",
    "country = ['India','Pakistan','USA','Nepal','Srilanka']\n",
    "\n",
    "pd.Series(country)"
   ]
  },
  {
   "cell_type": "code",
   "execution_count": 165,
   "id": "b071844c",
   "metadata": {},
   "outputs": [
    {
     "data": {
      "text/plain": [
       "maths       67\n",
       "english     57\n",
       "science     89\n",
       "hindi      100\n",
       "Name: my_marks, dtype: int64"
      ]
     },
     "execution_count": 165,
     "metadata": {},
     "output_type": "execute_result"
    }
   ],
   "source": [
    "# custom index\n",
    "marks = [67,57,89,100]\n",
    "subjects = ['maths','english','science','hindi']\n",
    "\n",
    "ser=pd.Series(marks,index=subjects,name='my_marks')\n",
    "ser"
   ]
  },
  {
   "cell_type": "code",
   "execution_count": 169,
   "id": "d0d10ec9",
   "metadata": {},
   "outputs": [
    {
     "data": {
      "text/plain": [
       "(4, dtype('int64'), 'my_marks', True)"
      ]
     },
     "execution_count": 169,
     "metadata": {},
     "output_type": "execute_result"
    }
   ],
   "source": [
    "ser.size,ser.dtype,ser.name,ser.is_unique"
   ]
  },
  {
   "cell_type": "code",
   "execution_count": 171,
   "id": "5a8736ee",
   "metadata": {},
   "outputs": [
    {
     "data": {
      "text/plain": [
       "(Index(['maths', 'english', 'science', 'hindi'], dtype='object'),\n",
       " array([ 67,  57,  89, 100], dtype=int64))"
      ]
     },
     "execution_count": 171,
     "metadata": {},
     "output_type": "execute_result"
    }
   ],
   "source": [
    "ser.index,ser.values"
   ]
  },
  {
   "cell_type": "raw",
   "id": "11dd96cd",
   "metadata": {},
   "source": [
    "series\n",
    "\n",
    "count\n",
    "min\n",
    "max\n",
    "value_counts\n",
    "mean \n",
    "std\n",
    "var\n",
    "mode \n",
    "describe\n",
    "sort_values\n",
    "len\n",
    "dir\n",
    "type\n",
    "sorted\n",
    "\n",
    "slicing[:   col,;   rows :   gap]\n",
    "\n",
    "\n",
    "#few series methods \n",
    "\n",
    "# astype\n",
    "# between\n",
    "# clip\n",
    "# drop_duplicates\n",
    "# isnull\n",
    "# dropna\n",
    "# fillna\n",
    "# isin\n",
    "# apply\n",
    "# copy"
   ]
  },
  {
   "cell_type": "code",
   "execution_count": 173,
   "id": "d592e445",
   "metadata": {},
   "outputs": [
    {
     "data": {
      "text/plain": [
       "<Axes: >"
      ]
     },
     "execution_count": 173,
     "metadata": {},
     "output_type": "execute_result"
    },
    {
     "data": {
      "image/png": "[encoded data removed]",
      "text/plain": [
       "<Figure size 640x480 with 1 Axes>"
      ]
     },
     "metadata": {},
     "output_type": "display_data"
    }
   ],
   "source": [
    "ser.plot()"
   ]
  },
  {
   "cell_type": "raw",
   "id": "18c30cce",
   "metadata": {},
   "source": [
    "# change datatype of column\n",
    "\n",
    "df['new']=df['new'].astype('int32')\n"
   ]
  },
  {
   "cell_type": "code",
   "execution_count": 186,
   "id": "79634bbf",
   "metadata": {},
   "outputs": [
    {
     "data": {
      "text/plain": [
       "<Axes: ylabel='DIVISION'>"
      ]
     },
     "execution_count": 186,
     "metadata": {},
     "output_type": "execute_result"
    },
    {
     "data": {
      "image/png": "[encoded data removed]",
      "text/plain": [
       "<Figure size 640x480 with 1 Axes>"
      ]
     },
     "metadata": {},
     "output_type": "display_data"
    }
   ],
   "source": [
    "df['DIVISION'].value_counts().sort_values().plot(kind='pie')"
   ]
  },
  {
   "cell_type": "code",
   "execution_count": 188,
   "id": "ce5be531",
   "metadata": {},
   "outputs": [
    {
     "data": {
      "text/html": [
       "<div>\n",
       "<style scoped>\n",
       "    .dataframe tbody tr th:only-of-type {\n",
       "        vertical-align: middle;\n",
       "    }\n",
       "\n",
       "    .dataframe tbody tr th {\n",
       "        vertical-align: top;\n",
       "    }\n",
       "\n",
       "    .dataframe thead th {\n",
       "        text-align: right;\n",
       "    }\n",
       "</style>\n",
       "<table border=\"1\" class=\"dataframe\">\n",
       "  <thead>\n",
       "    <tr style=\"text-align: right;\">\n",
       "      <th></th>\n",
       "      <th>index</th>\n",
       "      <th>bill_status</th>\n",
       "      <th>REALIZATION_PAYMENT</th>\n",
       "      <th>new</th>\n",
       "      <th>my_col</th>\n",
       "    </tr>\n",
       "    <tr>\n",
       "      <th>DIVISION</th>\n",
       "      <th></th>\n",
       "      <th></th>\n",
       "      <th></th>\n",
       "      <th></th>\n",
       "      <th></th>\n",
       "    </tr>\n",
       "  </thead>\n",
       "  <tbody>\n",
       "    <tr>\n",
       "      <th>WEILOI</th>\n",
       "      <td>0</td>\n",
       "      <td>ACT</td>\n",
       "      <td>490.0</td>\n",
       "      <td>98.0</td>\n",
       "      <td>9</td>\n",
       "    </tr>\n",
       "    <tr>\n",
       "      <th>WEILOI</th>\n",
       "      <td>1</td>\n",
       "      <td>ACT</td>\n",
       "      <td>800.0</td>\n",
       "      <td>160.0</td>\n",
       "      <td>1</td>\n",
       "    </tr>\n",
       "    <tr>\n",
       "      <th>WEILOI</th>\n",
       "      <td>2</td>\n",
       "      <td>ACT</td>\n",
       "      <td>10.0</td>\n",
       "      <td>2.0</td>\n",
       "      <td>2</td>\n",
       "    </tr>\n",
       "    <tr>\n",
       "      <th>WEILOI</th>\n",
       "      <td>3</td>\n",
       "      <td>ACT</td>\n",
       "      <td>NaN</td>\n",
       "      <td>NaN</td>\n",
       "      <td>n</td>\n",
       "    </tr>\n",
       "    <tr>\n",
       "      <th>WEILOI</th>\n",
       "      <td>4</td>\n",
       "      <td>ACT</td>\n",
       "      <td>700.0</td>\n",
       "      <td>140.0</td>\n",
       "      <td>1</td>\n",
       "    </tr>\n",
       "    <tr>\n",
       "      <th>...</th>\n",
       "      <td>...</td>\n",
       "      <td>...</td>\n",
       "      <td>...</td>\n",
       "      <td>...</td>\n",
       "      <td>...</td>\n",
       "    </tr>\n",
       "    <tr>\n",
       "      <th>TURA</th>\n",
       "      <td>23504</td>\n",
       "      <td>ACT</td>\n",
       "      <td>NaN</td>\n",
       "      <td>NaN</td>\n",
       "      <td>n</td>\n",
       "    </tr>\n",
       "    <tr>\n",
       "      <th>TURA</th>\n",
       "      <td>23505</td>\n",
       "      <td>ACT</td>\n",
       "      <td>NaN</td>\n",
       "      <td>NaN</td>\n",
       "      <td>n</td>\n",
       "    </tr>\n",
       "    <tr>\n",
       "      <th>TURA</th>\n",
       "      <td>23506</td>\n",
       "      <td>ACT</td>\n",
       "      <td>NaN</td>\n",
       "      <td>NaN</td>\n",
       "      <td>n</td>\n",
       "    </tr>\n",
       "    <tr>\n",
       "      <th>TURA</th>\n",
       "      <td>23507</td>\n",
       "      <td>ACT</td>\n",
       "      <td>17537.0</td>\n",
       "      <td>3507.4</td>\n",
       "      <td>3</td>\n",
       "    </tr>\n",
       "    <tr>\n",
       "      <th>WEILOI</th>\n",
       "      <td>23508</td>\n",
       "      <td>ACT</td>\n",
       "      <td>NaN</td>\n",
       "      <td>NaN</td>\n",
       "      <td>n</td>\n",
       "    </tr>\n",
       "  </tbody>\n",
       "</table>\n",
       "<p>23509 rows × 5 columns</p>\n",
       "</div>"
      ],
      "text/plain": [
       "          index bill_status  REALIZATION_PAYMENT     new my_col\n",
       "DIVISION                                                       \n",
       "WEILOI        0         ACT                490.0    98.0      9\n",
       "WEILOI        1         ACT                800.0   160.0      1\n",
       "WEILOI        2         ACT                 10.0     2.0      2\n",
       "WEILOI        3         ACT                  NaN     NaN      n\n",
       "WEILOI        4         ACT                700.0   140.0      1\n",
       "...         ...         ...                  ...     ...    ...\n",
       "TURA      23504         ACT                  NaN     NaN      n\n",
       "TURA      23505         ACT                  NaN     NaN      n\n",
       "TURA      23506         ACT                  NaN     NaN      n\n",
       "TURA      23507         ACT              17537.0  3507.4      3\n",
       "WEILOI    23508         ACT                  NaN     NaN      n\n",
       "\n",
       "[23509 rows x 5 columns]"
      ]
     },
     "execution_count": 188,
     "metadata": {},
     "output_type": "execute_result"
    }
   ],
   "source": [
    "# how to replace existing index without loosing\n",
    "\n",
    "df.reset_index().set_index('DIVISION')"
   ]
  },
  {
   "cell_type": "markdown",
   "id": "5fb37340",
   "metadata": {},
   "source": [
    "# Pandas - Date_time"
   ]
  },
  {
   "cell_type": "raw",
   "id": "0393907e",
   "metadata": {},
   "source": [
    "\n",
    ">timestamp object \n",
    "\n",
    "--Time stamps reference particular \n",
    "moments in time (e.g., Oct 24th, 2022 at 7:00pm)"
   ]
  },
  {
   "cell_type": "code",
   "execution_count": 201,
   "id": "6197d41a",
   "metadata": {},
   "outputs": [
    {
     "data": {
      "text/plain": [
       "pandas._libs.tslibs.timestamps.Timestamp"
      ]
     },
     "execution_count": 201,
     "metadata": {},
     "output_type": "execute_result"
    }
   ],
   "source": [
    "# creating timestamp\n",
    "\n",
    "type(pd.Timestamp('2023/1/5'))"
   ]
  },
  {
   "cell_type": "code",
   "execution_count": 202,
   "id": "b5f1f854",
   "metadata": {},
   "outputs": [
    {
     "data": {
      "text/plain": [
       "Timestamp('2023-01-05 00:00:00')"
      ]
     },
     "execution_count": 202,
     "metadata": {},
     "output_type": "execute_result"
    }
   ],
   "source": [
    "# variations\n",
    "pd.Timestamp('2023-1-5')\n",
    "pd.Timestamp('2023, 1, 5')"
   ]
  },
  {
   "cell_type": "code",
   "execution_count": 203,
   "id": "1842e1df",
   "metadata": {},
   "outputs": [
    {
     "data": {
      "text/plain": [
       "Timestamp('2023-01-01 00:00:00')"
      ]
     },
     "execution_count": 203,
     "metadata": {},
     "output_type": "execute_result"
    }
   ],
   "source": [
    "# only year\n",
    "pd.Timestamp('2023')"
   ]
  },
  {
   "cell_type": "code",
   "execution_count": 204,
   "id": "0babafe6",
   "metadata": {},
   "outputs": [
    {
     "data": {
      "text/plain": [
       "Timestamp('2023-01-05 00:00:00')"
      ]
     },
     "execution_count": 204,
     "metadata": {},
     "output_type": "execute_result"
    }
   ],
   "source": [
    "# using text\n",
    "pd.Timestamp('5th January 2023')"
   ]
  },
  {
   "cell_type": "code",
   "execution_count": 205,
   "id": "6c6fbc8e",
   "metadata": {},
   "outputs": [
    {
     "data": {
      "text/plain": [
       "Timestamp('2023-01-05 09:21:56')"
      ]
     },
     "execution_count": 205,
     "metadata": {},
     "output_type": "execute_result"
    }
   ],
   "source": [
    "# using datetime.datetime object\n",
    "import datetime as dt\n",
    "\n",
    "x = pd.Timestamp(dt.datetime(2023,1,5,9,21,56))\n",
    "x"
   ]
  },
  {
   "cell_type": "code",
   "execution_count": 206,
   "id": "bcfba1c2",
   "metadata": {},
   "outputs": [
    {
     "data": {
      "text/plain": [
       "56"
      ]
     },
     "execution_count": 206,
     "metadata": {},
     "output_type": "execute_result"
    }
   ],
   "source": [
    "# fetching attributes\n",
    "x.year\n",
    "x.month\n",
    "x.day\n",
    "x.hour\n",
    "x.minute\n",
    "x.second"
   ]
  },
  {
   "cell_type": "code",
   "execution_count": 207,
   "id": "68c1d176",
   "metadata": {},
   "outputs": [
    {
     "data": {
      "text/plain": [
       "array('2015-07-04', dtype='datetime64[D]')"
      ]
     },
     "execution_count": 207,
     "metadata": {},
     "output_type": "execute_result"
    }
   ],
   "source": [
    "import numpy as np\n",
    "date = np.array('2015-07-04', dtype=np.datetime64)\n",
    "date"
   ]
  },
  {
   "cell_type": "code",
   "execution_count": 208,
   "id": "ea37e2c2",
   "metadata": {},
   "outputs": [
    {
     "data": {
      "text/plain": [
       "array(['2015-07-04', '2015-07-05', '2015-07-06', '2015-07-07',\n",
       "       '2015-07-08', '2015-07-09', '2015-07-10', '2015-07-11',\n",
       "       '2015-07-12', '2015-07-13', '2015-07-14', '2015-07-15'],\n",
       "      dtype='datetime64[D]')"
      ]
     },
     "execution_count": 208,
     "metadata": {},
     "output_type": "execute_result"
    }
   ],
   "source": [
    "date + np.arange(12)"
   ]
  },
  {
   "cell_type": "code",
   "execution_count": 209,
   "id": "20e072bb",
   "metadata": {},
   "outputs": [
    {
     "data": {
      "text/plain": [
       "DatetimeIndex(['2023-01-01', '2022-01-01', '2021-01-01'], dtype='datetime64[ns]', freq=None)"
      ]
     },
     "execution_count": 209,
     "metadata": {},
     "output_type": "execute_result"
    }
   ],
   "source": [
    "# using python datetime object\n",
    "pd.DatetimeIndex([dt.datetime(2023,1,1),dt.datetime(2022,1,1),dt.datetime(2021,1,1)])"
   ]
  },
  {
   "cell_type": "code",
   "execution_count": 210,
   "id": "4e3760af",
   "metadata": {},
   "outputs": [
    {
     "data": {
      "text/plain": [
       "DatetimeIndex(['2023-01-01', '2022-01-01', '2021-01-01'], dtype='datetime64[ns]', freq=None)"
      ]
     },
     "execution_count": 210,
     "metadata": {},
     "output_type": "execute_result"
    }
   ],
   "source": [
    "# using pd.timestamps\n",
    "dt_index = pd.DatetimeIndex([pd.Timestamp(2023,1,1),pd.Timestamp(2022,1,1),pd.Timestamp(2021,1,1)])\n",
    "dt_index"
   ]
  },
  {
   "cell_type": "code",
   "execution_count": 211,
   "id": "9bbd1d91",
   "metadata": {},
   "outputs": [
    {
     "data": {
      "text/plain": [
       "DatetimeIndex(['2023-01-05', '2023-01-08', '2023-01-11', '2023-01-14',\n",
       "               '2023-01-17', '2023-01-20', '2023-01-23', '2023-01-26',\n",
       "               '2023-01-29', '2023-02-01', '2023-02-04', '2023-02-07',\n",
       "               '2023-02-10', '2023-02-13', '2023-02-16', '2023-02-19',\n",
       "               '2023-02-22', '2023-02-25', '2023-02-28'],\n",
       "              dtype='datetime64[ns]', freq='3D')"
      ]
     },
     "execution_count": 211,
     "metadata": {},
     "output_type": "execute_result"
    }
   ],
   "source": [
    "# generate daily dates in a given range\n",
    "\n",
    "pd.date_range(start='2023/1/5',end='2023/2/28',freq='3D')"
   ]
  },
  {
   "cell_type": "code",
   "execution_count": 212,
   "id": "7b2dbc0d",
   "metadata": {},
   "outputs": [
    {
     "data": {
      "text/plain": [
       "DatetimeIndex(['2023-01-05', '2023-01-06', '2023-01-09', '2023-01-10',\n",
       "               '2023-01-11', '2023-01-12', '2023-01-13', '2023-01-16',\n",
       "               '2023-01-17', '2023-01-18', '2023-01-19', '2023-01-20',\n",
       "               '2023-01-23', '2023-01-24', '2023-01-25', '2023-01-26',\n",
       "               '2023-01-27', '2023-01-30', '2023-01-31', '2023-02-01',\n",
       "               '2023-02-02', '2023-02-03', '2023-02-06', '2023-02-07',\n",
       "               '2023-02-08', '2023-02-09', '2023-02-10', '2023-02-13',\n",
       "               '2023-02-14', '2023-02-15', '2023-02-16', '2023-02-17',\n",
       "               '2023-02-20', '2023-02-21', '2023-02-22', '2023-02-23',\n",
       "               '2023-02-24', '2023-02-27', '2023-02-28'],\n",
       "              dtype='datetime64[ns]', freq='B')"
      ]
     },
     "execution_count": 212,
     "metadata": {},
     "output_type": "execute_result"
    }
   ],
   "source": [
    "# B -> business days\n",
    "pd.date_range(start='2023/1/5',end='2023/2/28',freq='B')"
   ]
  },
  {
   "cell_type": "code",
   "execution_count": 213,
   "id": "25f2f9f1",
   "metadata": {},
   "outputs": [
    {
     "data": {
      "text/plain": [
       "DatetimeIndex(['2023-01-05', '2023-01-12', '2023-01-19', '2023-01-26',\n",
       "               '2023-02-02', '2023-02-09', '2023-02-16', '2023-02-23'],\n",
       "              dtype='datetime64[ns]', freq='W-THU')"
      ]
     },
     "execution_count": 213,
     "metadata": {},
     "output_type": "execute_result"
    }
   ],
   "source": [
    "# W -> one week per day\n",
    "pd.date_range(start='2023/1/5',end='2023/2/28',freq='W-THU')"
   ]
  },
  {
   "cell_type": "code",
   "execution_count": 214,
   "id": "3fb92c6b",
   "metadata": {},
   "outputs": [
    {
     "data": {
      "text/plain": [
       "DatetimeIndex(['2023-01-05 00:00:00', '2023-01-05 06:00:00',\n",
       "               '2023-01-05 12:00:00', '2023-01-05 18:00:00',\n",
       "               '2023-01-06 00:00:00', '2023-01-06 06:00:00',\n",
       "               '2023-01-06 12:00:00', '2023-01-06 18:00:00',\n",
       "               '2023-01-07 00:00:00', '2023-01-07 06:00:00',\n",
       "               ...\n",
       "               '2023-02-25 18:00:00', '2023-02-26 00:00:00',\n",
       "               '2023-02-26 06:00:00', '2023-02-26 12:00:00',\n",
       "               '2023-02-26 18:00:00', '2023-02-27 00:00:00',\n",
       "               '2023-02-27 06:00:00', '2023-02-27 12:00:00',\n",
       "               '2023-02-27 18:00:00', '2023-02-28 00:00:00'],\n",
       "              dtype='datetime64[ns]', length=217, freq='6H')"
      ]
     },
     "execution_count": 214,
     "metadata": {},
     "output_type": "execute_result"
    }
   ],
   "source": [
    "# H -> Hourly data(factor)\n",
    "pd.date_range(start='2023/1/5',end='2023/2/28',freq='6H')"
   ]
  },
  {
   "cell_type": "code",
   "execution_count": 215,
   "id": "6848c68b",
   "metadata": {},
   "outputs": [
    {
     "data": {
      "text/plain": [
       "DatetimeIndex(['2023-01-31', '2023-02-28'], dtype='datetime64[ns]', freq='M')"
      ]
     },
     "execution_count": 215,
     "metadata": {},
     "output_type": "execute_result"
    }
   ],
   "source": [
    "# M -> Month end\n",
    "pd.date_range(start='2023/1/5',end='2023/2/28',freq='M')"
   ]
  },
  {
   "cell_type": "code",
   "execution_count": 216,
   "id": "bcc80eeb",
   "metadata": {},
   "outputs": [
    {
     "data": {
      "text/plain": [
       "DatetimeIndex(['2023-02-01'], dtype='datetime64[ns]', freq='MS')"
      ]
     },
     "execution_count": 216,
     "metadata": {},
     "output_type": "execute_result"
    }
   ],
   "source": [
    "# MS -> Month start\n",
    "pd.date_range(start='2023/1/5',end='2023/2/28',freq='MS')"
   ]
  },
  {
   "cell_type": "code",
   "execution_count": 217,
   "id": "be8e947c",
   "metadata": {},
   "outputs": [
    {
     "data": {
      "text/plain": [
       "DatetimeIndex(['2023-12-31', '2024-12-31', '2025-12-31', '2026-12-31',\n",
       "               '2027-12-31', '2028-12-31', '2029-12-31'],\n",
       "              dtype='datetime64[ns]', freq='A-DEC')"
      ]
     },
     "execution_count": 217,
     "metadata": {},
     "output_type": "execute_result"
    }
   ],
   "source": [
    "# A -> Year end\n",
    "pd.date_range(start='2023/1/5',end='2030/2/28',freq='A')"
   ]
  },
  {
   "cell_type": "code",
   "execution_count": 218,
   "id": "25e0e0ef",
   "metadata": {},
   "outputs": [
    {
     "data": {
      "text/plain": [
       "DatetimeIndex(['2023-01-31', '2023-02-28', '2023-03-31', '2023-04-30',\n",
       "               '2023-05-31', '2023-06-30', '2023-07-31', '2023-08-31',\n",
       "               '2023-09-30', '2023-10-31', '2023-11-30', '2023-12-31',\n",
       "               '2024-01-31', '2024-02-29', '2024-03-31', '2024-04-30',\n",
       "               '2024-05-31', '2024-06-30', '2024-07-31', '2024-08-31',\n",
       "               '2024-09-30', '2024-10-31', '2024-11-30', '2024-12-31',\n",
       "               '2025-01-31'],\n",
       "              dtype='datetime64[ns]', freq='M')"
      ]
     },
     "execution_count": 218,
     "metadata": {},
     "output_type": "execute_result"
    }
   ],
   "source": [
    "# using periods(number of results)\n",
    "pd.date_range(start='2023/1/5',periods=25,freq='M')"
   ]
  },
  {
   "cell_type": "code",
   "execution_count": 219,
   "id": "e57cc232",
   "metadata": {},
   "outputs": [
    {
     "data": {
      "text/plain": [
       "0      Sunday\n",
       "1    Saturday\n",
       "2      Friday\n",
       "dtype: object"
      ]
     },
     "execution_count": 219,
     "metadata": {},
     "output_type": "execute_result"
    }
   ],
   "source": [
    "# simple series example\n",
    "\n",
    "s = pd.Series(['2023/1/1','2022/1/1','2021/1/1'])\n",
    "pd.to_datetime(s).dt.day_name()"
   ]
  },
  {
   "cell_type": "code",
   "execution_count": 220,
   "id": "4c4b22d8",
   "metadata": {},
   "outputs": [
    {
     "data": {
      "text/plain": [
       "0    January\n",
       "1    January\n",
       "2        NaN\n",
       "dtype: object"
      ]
     },
     "execution_count": 220,
     "metadata": {},
     "output_type": "execute_result"
    }
   ],
   "source": [
    "# with errors\n",
    "s = pd.Series(['2023/1/1','2022/1/1','2021/130/1'])\n",
    "pd.to_datetime(s,errors='coerce').dt.month_name()"
   ]
  },
  {
   "cell_type": "code",
   "execution_count": null,
   "id": "21050a79",
   "metadata": {},
   "outputs": [],
   "source": []
  },
  {
   "cell_type": "code",
   "execution_count": null,
   "id": "278e6968",
   "metadata": {},
   "outputs": [],
   "source": []
  },
  {
   "cell_type": "code",
   "execution_count": null,
   "id": "ec542da7",
   "metadata": {},
   "outputs": [],
   "source": []
  },
  {
   "cell_type": "code",
   "execution_count": null,
   "id": "9edfbe9d",
   "metadata": {},
   "outputs": [],
   "source": []
  },
  {
   "cell_type": "code",
   "execution_count": null,
   "id": "80166599",
   "metadata": {},
   "outputs": [],
   "source": []
  },
  {
   "cell_type": "code",
   "execution_count": null,
   "id": "ba68443b",
   "metadata": {},
   "outputs": [],
   "source": []
  }
 ],
 "metadata": {
  "kernelspec": {
   "display_name": "projectenv",
   "language": "python",
   "name": "projectenv"
  },
  "language_info": {
   "codemirror_mode": {
    "name": "ipython",
    "version": 3
   },
   "file_extension": ".py",
   "mimetype": "text/x-python",
   "name": "python",
   "nbconvert_exporter": "python",
   "pygments_lexer": "ipython3",
   "version": "3.10.8"
  }
 },
 "nbformat": 4,
 "nbformat_minor": 5
}
